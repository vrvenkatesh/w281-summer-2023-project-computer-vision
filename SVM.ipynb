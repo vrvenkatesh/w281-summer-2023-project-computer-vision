{
 "cells": [
  {
   "cell_type": "markdown",
   "metadata": {
    "colab_type": "text",
    "id": "view-in-github"
   },
   "source": [
    "<a href=\"https://colab.research.google.com/github/MichaelTay/w281-summer-2023-project/blob/mcliston_modeling/logistic_regression.ipynb\" target=\"_parent\"><img src=\"https://colab.research.google.com/assets/colab-badge.svg\" alt=\"Open In Colab\"/></a>"
   ]
  },
  {
   "cell_type": "markdown",
   "metadata": {
    "id": "1p8wbonrBoLl"
   },
   "source": [
    "# Fruit and Vegetable Classification\n",
    "## \\# Class activation heatmap for image classification\n",
    "Taken from: https://www.kaggle.com/code/databeru/fruit-and-vegetable-classification\n",
    "\n",
    "## \\# Grad-CAM class activation visualization\n",
    "\n",
    "Having 3861 images of 36 different fruits/vegetables\n",
    "\n",
    "![fruit vegetable](https://i.imgur.com/KUAcIQD.jpeg)\n",
    "\n",
    "[![Open In Colab](https://colab.research.google.com/assets/colab-badge.svg)](https://colab.research.google.com/github/MichaelTay/w281-summer-2023-project/blob/main/feature_detection.ipynb)"
   ]
  },
  {
   "cell_type": "markdown",
   "metadata": {
    "id": "KaL5HEJPBoLn"
   },
   "source": [
    "<h1>Table of contents</h1>\n",
    "\n",
    "\n",
    "<ul>\n",
    "<li><a href=\"#1\"><strong>1. Loading and preprocessing</strong></a>\n",
    "</ul>\n",
    "    \n",
    "<ul>\n",
    "<li><a href=\"#2\"><strong>2. Load the Images with a generator and Data Augmentation</strong></a>\n",
    "</ul>\n",
    "\n",
    "<ul>\n",
    "<li><a href=\"#3\"><strong>3. Train the model</strong></a>\n",
    "</ul>\n",
    "\n",
    "<ul>\n",
    "<li><a href=\"#4\"><strong>4. Visualize the result</strong></a>\n",
    "</ul>\n",
    "\n",
    "<ul>\n",
    "<li><a href=\"#5\"><strong>5. Class activation heatmap for image classification</strong></a>\n",
    "</ul>\n",
    "\n",
    "# Context\n",
    "\n",
    "Image classification of fruits and vegetables has a wide range of applications in nutrition, cooking, farming, and produce wholesale. Being able to identify the type (fruit or vegetable) and class (which particular fruit or vegetable) is the foundational layer upon which one can build useful techniques related to produce such as quality evaluation, insect infestation, ripeness evaluation, sorting, recipe generation, and a myriad of others. Creating a well-performing baseline fruit and vegetable classifier opens up a world of possibilities for computer vision applications within the produce industry.\n",
    "\n",
    "# Content\n",
    "This dataset contains three folders:\n",
    "\n",
    "- train (100 images each)\n",
    "- test (10 images each)\n",
    "- validation (10 images each)\n",
    "each of the above folders contains subfolders for different fruits and vegetables wherein the images for respective food items are present# Context\n",
    "\n",
    "This dataset contains images of the following food items:\n",
    "\n",
    "- **fruits**: banana, apple, pear, grapes, orange, kiwi, watermelon, pomegranate, pineapple, mango\n",
    "- **vegetables**: cucumber, carrot, capsicum, onion, potato, lemon, tomato, raddish, beetroot, cabbage, lettuce, spinach, soy bean, cauliflower, bell pepper, chilli pepper, turnip, corn, sweetcorn, sweet potato, paprika, jalepeño, ginger, garlic, peas, eggplant\n",
    "\n",
    "To balance the class distribution, we chose a subset of 10 of the 20 total vegetable classes. The following classes were analyzed as part of this project:\n",
    "\n",
    "Fruits = ['banana', 'apple', 'pear', 'grapes', 'orange', 'kiwi', 'watermelon', 'pomegranate', 'pineapple', 'mango']\n",
    "Vegetables = ['bell pepper', 'cauliflower', 'chilli pepper', 'peas', 'corn', 'spinach', 'turnip', 'garlic', 'ginger', 'cabbage']\n",
    "\n"
   ]
  },
  {
   "cell_type": "code",
   "execution_count": 1,
   "metadata": {
    "ExecuteTime": {
     "start_time": "2023-08-06T11:19:54.514054Z",
     "end_time": "2023-08-06T11:19:55.323595Z"
    },
    "id": "3qSIiM8kKE8d",
    "tags": []
   },
   "outputs": [],
   "source": [
    "#importing required libraries\n",
    "from skimage.io import imread\n",
    "from skimage.transform import resize\n",
    "from skimage.feature import hog, daisy\n",
    "from skimage.color import rgb2gray\n",
    "from skimage import exposure\n",
    "import matplotlib.pyplot as plt\n",
    "# Load the Drive helper and mount\n",
    "#from google.colab import drive"
   ]
  },
  {
   "cell_type": "markdown",
   "metadata": {
    "id": "XFhtaM-2BoLo"
   },
   "source": [
    "# 1. Loading and preprocessing<a class=\"anchor\" id=\"1\"></a><a class=\"anchor\" id=\"1\"></a>"
   ]
  },
  {
   "cell_type": "code",
   "execution_count": 2,
   "metadata": {
    "ExecuteTime": {
     "start_time": "2023-08-06T11:19:55.317784Z",
     "end_time": "2023-08-06T11:19:55.339217Z"
    },
    "colab": {
     "base_uri": "https://localhost:8080/"
    },
    "id": "b6tCm8LNBoLq",
    "outputId": "2d64efb3-c16d-4dde-9304-a2295d13744c",
    "tags": []
   },
   "outputs": [],
   "source": [
    "import os\n",
    "\n",
    "# Load the Drive helper and mount\n",
    "#from google.colab import drive\n",
    "\n",
    "# This will prompt for authorization.\n",
    "#mountdir = '/content/drive'\n",
    "#drive.mount(mountdir, force_remount=True)\n",
    "\n",
    "#localdir = mountdir + '/MyDrive'\n",
    "# Replace your folder here\n",
    "#w281_directory = '/Berkeley/w281/Fruit-and-Vegetable-Classification/'\n",
    "#inputdir = localdir + w281_directory\n",
    "# Uncomment below if using local folder\n",
    "inputdir = ''\n",
    "# inputdir = \"/Users/mcliston/Library/CloudStorage/GoogleDrive-michael.c.liston@gmail.com/My Drive/Berkeley/w281/Fruit-and-Vegetable-Classification/\""
   ]
  },
  {
   "cell_type": "code",
   "execution_count": 3,
   "metadata": {
    "ExecuteTime": {
     "start_time": "2023-08-06T11:19:55.346156Z",
     "end_time": "2023-08-06T11:19:58.485895Z"
    },
    "id": "CX0NY9FsI5tm",
    "tags": []
   },
   "outputs": [],
   "source": [
    "import numpy as np\n",
    "import pandas as pd\n",
    "from pathlib import Path\n",
    "import os.path\n",
    "import matplotlib.pyplot as plt\n",
    "import cv2\n",
    "#import tensorflow as tf\n",
    "\n",
    "# Create a list with the filepaths for training and testing\n",
    "train_dir = Path(inputdir, './input/train')\n",
    "train_filepaths = list(train_dir.glob(r'**/*.jpg'))\n",
    "\n",
    "test_dir = Path(inputdir, './input/test')\n",
    "test_filepaths = list(test_dir.glob(r'**/*.jpg'))\n",
    "\n",
    "val_dir = Path(inputdir, './input/validation')\n",
    "val_filepaths = list(test_dir.glob(r'**/*.jpg'))\n",
    "\n",
    "def proc_img(filepath):\n",
    "    \"\"\" Create a DataFrame with the filepath and the labels of the pictures\n",
    "    \"\"\"\n",
    "\n",
    "    labels = [str(filepath[i]).split(\"/\")[-2] \\\n",
    "              for i in range(len(filepath))]\n",
    "\n",
    "    filepath = pd.Series(filepath, name='Filepath').astype(str)\n",
    "    labels = pd.Series(labels, name='Label')\n",
    "\n",
    "    # Concatenate filepaths and labels\n",
    "    df = pd.concat([filepath, labels], axis=1)\n",
    "\n",
    "    # Shuffle the DataFrame and reset index\n",
    "    df = df.sample(frac=1).reset_index(drop = True)\n",
    "\n",
    "    return df\n",
    "\n",
    "train_df = proc_img(train_filepaths)\n",
    "test_df = proc_img(test_filepaths)\n",
    "val_df = proc_img(val_filepaths)"
   ]
  },
  {
   "cell_type": "markdown",
   "metadata": {
    "id": "iPbe-w1xc5aN"
   },
   "source": [
    "### Loading Training/Validation/Test sets"
   ]
  },
  {
   "cell_type": "code",
   "execution_count": 4,
   "metadata": {
    "ExecuteTime": {
     "start_time": "2023-08-06T11:19:58.486097Z",
     "end_time": "2023-08-06T11:19:58.498405Z"
    },
    "id": "x2FVkfp4dKAZ"
   },
   "outputs": [],
   "source": [
    "modeling_datasets = inputdir + 'modeling/'"
   ]
  },
  {
   "cell_type": "code",
   "execution_count": 5,
   "metadata": {
    "ExecuteTime": {
     "start_time": "2023-08-06T11:19:58.495751Z",
     "end_time": "2023-08-06T11:19:58.665471Z"
    },
    "colab": {
     "base_uri": "https://localhost:8080/"
    },
    "id": "pt_kw2jydmIi",
    "outputId": "54cd1209-1ca8-453d-f963-26d0d21816ff"
   },
   "outputs": [
    {
     "name": "stdout",
     "output_type": "stream",
     "text": [
      "ls: drive/MyDrive/Berkeley/w281/Fruit-and-Vegetable-Classification/modeling/train: No such file or directory\r\n"
     ]
    }
   ],
   "source": [
    "!ls drive/MyDrive/Berkeley/w281/Fruit-and-Vegetable-Classification/modeling/train"
   ]
  },
  {
   "cell_type": "code",
   "execution_count": 6,
   "metadata": {
    "ExecuteTime": {
     "start_time": "2023-08-06T11:19:58.657593Z",
     "end_time": "2023-08-06T11:19:58.778154Z"
    },
    "id": "7WevwGlmc3fx"
   },
   "outputs": [],
   "source": [
    "train_features = pd.read_csv(modeling_datasets+'pca_datasets/training_daisy_lum_sat_hue.csv')\n",
    "validation_features = pd.read_csv(modeling_datasets+'pca_datasets/validation_daisy_lum_sat_hue.csv')\n",
    "test_features = pd.read_csv(modeling_datasets+'pca_datasets/test_daisy_lum_sat_hue.csv')\n",
    "\n",
    "test_features = test_features.drop('Unnamed: 0', axis=1)\n",
    "\n",
    "full_train = pd.concat([train_features, validation_features], axis=0)\n",
    "full_train = full_train.reset_index().drop(['Unnamed: 0', 'index'], axis=1)"
   ]
  },
  {
   "cell_type": "markdown",
   "metadata": {
    "id": "4J5wN39X5eBf"
   },
   "source": [
    "##### Mapping labels to ints"
   ]
  },
  {
   "cell_type": "code",
   "execution_count": 7,
   "metadata": {
    "ExecuteTime": {
     "start_time": "2023-08-06T11:19:58.752352Z",
     "end_time": "2023-08-06T11:19:58.789759Z"
    },
    "id": "G71jIw7b5dcS"
   },
   "outputs": [],
   "source": [
    "unique_training_labels = set([i for i in train_features['50'].tolist()])\n",
    "unique_val_labels = set([i for i in validation_features['50'].tolist()])\n",
    "unique_test_labels = set([i for i in test_features['50'].tolist()])\n",
    "\n",
    "all_unique_labels = set(list(unique_training_labels) + list(unique_val_labels) + list(unique_test_labels))\n",
    "all_unique_labels = sorted(list(all_unique_labels))\n",
    "label_numeric_mapping = {k:v for v,k in enumerate(all_unique_labels)}"
   ]
  },
  {
   "cell_type": "code",
   "execution_count": 8,
   "metadata": {
    "ExecuteTime": {
     "start_time": "2023-08-06T11:19:58.760647Z",
     "end_time": "2023-08-06T11:19:58.790471Z"
    },
    "id": "HvoGWX0r6i5u"
   },
   "outputs": [],
   "source": [
    "# full_train['label'] = full_train['label'].apply(lambda x: label_numeric_mapping[x])\n",
    "# test_hog['label'] = test_hog['label'].apply(lambda x: label_numeric_mapping[x])"
   ]
  },
  {
   "cell_type": "markdown",
   "metadata": {
    "id": "ALKhiDGWM9pc"
   },
   "source": [
    "## SVM"
   ]
  },
  {
   "cell_type": "code",
   "execution_count": 9,
   "metadata": {
    "ExecuteTime": {
     "start_time": "2023-08-06T11:19:58.790592Z",
     "end_time": "2023-08-06T11:20:00.278412Z"
    },
    "id": "tdIoeVCaXO_t"
   },
   "outputs": [],
   "source": [
    "from sklearn import svm\n",
    "from sklearn.model_selection import train_test_split, cross_val_score\n",
    "from sklearn.metrics import (roc_curve,\n",
    "                             auc, RocCurveDisplay,\n",
    "                             classification_report,\n",
    "                             confusion_matrix,accuracy_score)\n",
    "from sklearn.model_selection import StratifiedKFold\n",
    "\n",
    "from sklearn.metrics import accuracy_score, f1_score, make_scorer, ConfusionMatrixDisplay\n",
    "from hyperopt import tpe, hp, fmin, STATUS_OK,Trials\n",
    "from hyperopt.pyll.base import scope\n",
    "from tqdm import tqdm\n",
    "\n",
    "def warn(*args, **kwargs):\n",
    "    pass\n",
    "import warnings\n",
    "warnings.warn = warn\n",
    "\n",
    "def confusion_matrix_plot(conf_matrix, save_name='file.png'):\n",
    "    \"\"\" Confusion matrix matplotlib plot\n",
    "    # param conf_matrix: nested list of TP, TN, FP, FN\n",
    "    # return: None\n",
    "    \"\"\"\n",
    "\n",
    "\n",
    "    fig, ax = plt.subplots(figsize=(15, 10))\n",
    "    ax.matshow(conf_matrix, cmap=plt.cm.Blues, alpha=0.3)\n",
    "    for i in range(conf_matrix.shape[0]):\n",
    "        for j in range(conf_matrix.shape[1]):\n",
    "          ax.text(x=j, y=i, s=conf_matrix[i,j], va='center', ha='center')\n",
    "    ax.set_xticklabels(all_unique_labels)\n",
    "    ax.set_yticklabels(all_unique_labels)\n",
    "\n",
    "    plt.xlabel('Predicted label')\n",
    "    plt.ylabel('True label')\n",
    "\n",
    "    plt.tight_layout()\n",
    "    # plt.savefig(save_name, facecolor='white')"
   ]
  },
  {
   "cell_type": "markdown",
   "metadata": {
    "id": "sRaWrKIzjd90"
   },
   "source": [
    "##### Bayesian Parameter Search"
   ]
  },
  {
   "cell_type": "code",
   "execution_count": 10,
   "metadata": {
    "ExecuteTime": {
     "start_time": "2023-08-06T11:20:00.278541Z",
     "end_time": "2023-08-06T11:20:00.288895Z"
    },
    "id": "d4wKrP64f0Bj"
   },
   "outputs": [],
   "source": [
    "space = {   'tol' : hp.uniform('tol', 0.00001, 0.0001),\n",
    "            'kernel' : hp.choice('kernel', ['linear', 'poly', 'rbf', 'sigmoid']),\n",
    "            'C' : hp.uniform('C', 0.05, 3),\n",
    "            'max_iter' : hp.choice('max_iter', range(100,1000)),\n",
    "            'class_weight' : 'balanced'\n",
    "                }"
   ]
  },
  {
   "cell_type": "code",
   "execution_count": 11,
   "metadata": {
    "ExecuteTime": {
     "start_time": "2023-08-06T11:20:00.297505Z",
     "end_time": "2023-08-06T11:20:00.377870Z"
    },
    "id": "6-fm-ouTjx-x"
   },
   "outputs": [],
   "source": [
    "def optimize_lr(params):\n",
    "\n",
    "    skf = StratifiedKFold(n_splits=10)\n",
    "    clf = svm.SVC(**params)\n",
    "    f1_weighted = cross_val_score(clf, full_train.iloc[:, 0:-1], full_train['50'],\n",
    "                         scoring=make_scorer(accuracy_score),\n",
    "                        cv=skf).mean()\n",
    "    best_score = np.mean(f1_weighted)\n",
    "    loss = 1 - best_score\n",
    "    return {\"loss\":loss, \"status\":STATUS_OK}"
   ]
  },
  {
   "cell_type": "code",
   "execution_count": 12,
   "metadata": {
    "ExecuteTime": {
     "start_time": "2023-08-06T11:20:00.386480Z",
     "end_time": "2023-08-06T11:20:58.476845Z"
    },
    "colab": {
     "base_uri": "https://localhost:8080/"
    },
    "id": "J-RT-hvXs_Sl",
    "outputId": "2a242315-d6e8-44c1-ff89-2d812b16535b"
   },
   "outputs": [
    {
     "name": "stdout",
     "output_type": "stream",
     "text": [
      "100%|██████████| 20/20 [00:57<00:00,  2.90s/trial, best loss: 0.6543587847829009]\n",
      "Best: {'C': 2.3468197462350835, 'kernel': 2, 'max_iter': 567, 'tol': 6.75025916790339e-05}\n"
     ]
    }
   ],
   "source": [
    "RANDOM_SEED = 1234\n",
    "trials = Trials()\n",
    "\n",
    "best = fmin(\n",
    "    fn=optimize_lr,\n",
    "    space=space,\n",
    "    algo=tpe.suggest,\n",
    "    max_evals=20,\n",
    "    trials=trials,\n",
    "    rstate=np.random.default_rng(RANDOM_SEED)\n",
    ")\n",
    "\n",
    "print(\"Best: {}\".format(best))"
   ]
  },
  {
   "cell_type": "code",
   "execution_count": 13,
   "metadata": {
    "ExecuteTime": {
     "start_time": "2023-08-06T11:20:58.482774Z",
     "end_time": "2023-08-06T11:20:58.927374Z"
    },
    "id": "7qmI7bmSuT89"
   },
   "outputs": [],
   "source": [
    "params = {'C': 2.3468197462350835,\n",
    "          'max_iter': 567,\n",
    "          'tol': 6.75025916790339e-05,\n",
    "          'kernel': 'rbf'}\n",
    "\n",
    "model = svm.SVC(**params)\n",
    "model.fit(full_train.iloc[:,0:-1], full_train['50'])\n",
    "\n",
    "y_pred = model.predict(test_features.iloc[:,0:-1])\n"
   ]
  },
  {
   "cell_type": "code",
   "execution_count": 14,
   "metadata": {
    "ExecuteTime": {
     "start_time": "2023-08-06T11:20:58.937222Z",
     "end_time": "2023-08-06T11:20:58.942686Z"
    },
    "colab": {
     "base_uri": "https://localhost:8080/"
    },
    "id": "jzabjApQ2wzH",
    "outputId": "a7bccab8-4fa0-4012-b8ce-c0e9587c9a5a"
   },
   "outputs": [
    {
     "data": {
      "text/plain": "0.9625668449197861"
     },
     "execution_count": 14,
     "metadata": {},
     "output_type": "execute_result"
    }
   ],
   "source": [
    "accuracy_score(test_features['50'], y_pred)"
   ]
  },
  {
   "cell_type": "code",
   "execution_count": 15,
   "metadata": {
    "ExecuteTime": {
     "start_time": "2023-08-06T11:20:58.944984Z",
     "end_time": "2023-08-06T11:20:59.009413Z"
    },
    "colab": {
     "base_uri": "https://localhost:8080/"
    },
    "id": "2mQoIdfI3jeb",
    "outputId": "e3b3a47f-815d-470a-984e-527a7078bbbe"
   },
   "outputs": [
    {
     "name": "stdout",
     "output_type": "stream",
     "text": [
      "               precision    recall  f1-score   support\n",
      "\n",
      "        apple       1.00      0.89      0.94         9\n",
      "       banana       1.00      1.00      1.00         9\n",
      "  bell pepper       1.00      1.00      1.00         9\n",
      "      cabbage       1.00      1.00      1.00        10\n",
      "  cauliflower       1.00      1.00      1.00         9\n",
      "chilli pepper       1.00      1.00      1.00         7\n",
      "         corn       0.90      0.90      0.90        10\n",
      "       garlic       1.00      1.00      1.00        10\n",
      "       ginger       1.00      1.00      1.00        10\n",
      "       grapes       0.80      1.00      0.89         8\n",
      "         kiwi       1.00      0.90      0.95        10\n",
      "        mango       1.00      1.00      1.00        10\n",
      "       orange       1.00      0.86      0.92         7\n",
      "         pear       0.91      1.00      0.95        10\n",
      "         peas       1.00      0.89      0.94         9\n",
      "    pineapple       1.00      0.80      0.89        10\n",
      "  pomegranate       1.00      1.00      1.00        10\n",
      "      spinach       0.77      1.00      0.87        10\n",
      "       turnip       1.00      1.00      1.00        10\n",
      "   watermelon       1.00      1.00      1.00        10\n",
      "\n",
      "     accuracy                           0.96       187\n",
      "    macro avg       0.97      0.96      0.96       187\n",
      " weighted avg       0.97      0.96      0.96       187\n",
      "\n"
     ]
    }
   ],
   "source": [
    "print(classification_report(test_features['50'], y_pred))"
   ]
  },
  {
   "cell_type": "code",
   "execution_count": 18,
   "metadata": {
    "ExecuteTime": {
     "start_time": "2023-08-06T11:21:24.570880Z",
     "end_time": "2023-08-06T11:21:27.413037Z"
    },
    "colab": {
     "base_uri": "https://localhost:8080/",
     "height": 948
    },
    "id": "--yO-S63G3v9",
    "outputId": "26622760-bd96-4fb3-c58f-63701ceed597"
   },
   "outputs": [
    {
     "data": {
      "text/plain": "<sklearn.metrics._plot.confusion_matrix.ConfusionMatrixDisplay at 0x7f7b9092af90>"
     },
     "execution_count": 18,
     "metadata": {},
     "output_type": "execute_result"
    },
    {
     "data": {
      "text/plain": "<Figure size 1080x720 with 2 Axes>",
      "image/png": "[encoded data removed]"
     },
     "metadata": {
      "needs_background": "light"
     },
     "output_type": "display_data"
    }
   ],
   "source": [
    "fig, ax = plt.subplots(figsize=(15,10))\n",
    "ax.grid(False)\n",
    "ConfusionMatrixDisplay.from_predictions(test_features['50'], y_pred, xticks_rotation=60, ax=ax)"
   ]
  },
  {
   "cell_type": "code",
   "execution_count": 19,
   "metadata": {
    "ExecuteTime": {
     "start_time": "2023-08-06T11:24:51.847142Z",
     "end_time": "2023-08-06T11:24:51.873473Z"
    },
    "colab": {
     "base_uri": "https://localhost:8080/",
     "height": 1000
    },
    "id": "FvAY50DQCYmQ",
    "outputId": "d90e50ae-c559-41f4-e294-889d5d63c427"
   },
   "outputs": [
    {
     "data": {
      "text/plain": "\"\\nfig, ax = plt.subplots(figsize=(15,10))\\nax.grid(False)\\nconf_matrix = confusion_matrix(test_features['50'], y_pred, labels=model.classes_)\\nConfusionMatrixDisplay(confusion_matrix=conf_matrix, display_labels=model.classes_).plot()\\nplt.show()\\n\""
     },
     "execution_count": 19,
     "metadata": {},
     "output_type": "execute_result"
    }
   ],
   "source": [
    "'''\n",
    "fig, ax = plt.subplots(figsize=(15,10))\n",
    "ax.grid(False)\n",
    "conf_matrix = confusion_matrix(test_features['50'], y_pred, labels=model.classes_)\n",
    "ConfusionMatrixDisplay(confusion_matrix=conf_matrix, display_labels=model.classes_).plot()\n",
    "plt.show()\n",
    "'''"
   ]
  },
  {
   "cell_type": "code",
   "execution_count": 17,
   "metadata": {
    "id": "Q9hdvovkDBdz",
    "ExecuteTime": {
     "start_time": "2023-08-06T11:21:02.391041Z",
     "end_time": "2023-08-06T11:21:02.397109Z"
    }
   },
   "outputs": [],
   "source": []
  }
 ],
 "metadata": {
  "colab": {
   "include_colab_link": true,
   "machine_shape": "hm",
   "provenance": []
  },
  "kernelspec": {
   "display_name": "Python 3",
   "language": "python",
   "name": "python3"
  },
  "language_info": {
   "codemirror_mode": {
    "name": "ipython",
    "version": 3
   },
   "file_extension": ".py",
   "mimetype": "text/x-python",
   "name": "python",
   "nbconvert_exporter": "python",
   "pygments_lexer": "ipython3",
   "version": "3.7.12"
  }
 },
 "nbformat": 4,
 "nbformat_minor": 1
}
