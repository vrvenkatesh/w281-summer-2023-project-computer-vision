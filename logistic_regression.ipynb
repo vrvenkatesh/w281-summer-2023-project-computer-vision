{
  "cells": [
    {
      "cell_type": "markdown",
      "metadata": {
        "id": "view-in-github",
        "colab_type": "text"
      },
      "source": [
        "<a href=\"https://colab.research.google.com/github/MichaelTay/w281-summer-2023-project/blob/mcliston_modeling/logistic_regression.ipynb\" target=\"_parent\"><img src=\"https://colab.research.google.com/assets/colab-badge.svg\" alt=\"Open In Colab\"/></a>"
      ]
    },
    {
      "cell_type": "markdown",
      "metadata": {
        "id": "1p8wbonrBoLl"
      },
      "source": [
        "# Fruit and Vegetable Classification\n",
        "## \\# Class activation heatmap for image classification\n",
        "Taken from: https://www.kaggle.com/code/databeru/fruit-and-vegetable-classification\n",
        "\n",
        "## \\# Grad-CAM class activation visualization\n",
        "\n",
        "Having 3861 images of 36 different fruits/vegetables\n",
        "\n",
        "![fruit vegetable](https://i.imgur.com/KUAcIQD.jpeg)\n",
        "\n",
        "[![Open In Colab](https://colab.research.google.com/assets/colab-badge.svg)](https://colab.research.google.com/github/MichaelTay/w281-summer-2023-project/blob/main/feature_detection.ipynb)"
      ]
    },
    {
      "cell_type": "markdown",
      "metadata": {
        "id": "KaL5HEJPBoLn"
      },
      "source": [
        "<h1>Table of contents</h1>\n",
        "\n",
        "\n",
        "<ul>\n",
        "<li><a href=\"#1\"><strong>1. Loading and preprocessing</strong></a>\n",
        "</ul>\n",
        "    \n",
        "<ul>\n",
        "<li><a href=\"#2\"><strong>2. Load the Images with a generator and Data Augmentation</strong></a>\n",
        "</ul>\n",
        "\n",
        "<ul>\n",
        "<li><a href=\"#3\"><strong>3. Train the model</strong></a>\n",
        "</ul>\n",
        "\n",
        "<ul>\n",
        "<li><a href=\"#4\"><strong>4. Visualize the result</strong></a>\n",
        "</ul>\n",
        "\n",
        "<ul>\n",
        "<li><a href=\"#5\"><strong>5. Class activation heatmap for image classification</strong></a>\n",
        "</ul>\n",
        "\n",
        "# Context\n",
        "\n",
        "Image classification of fruits and vegetables has a wide range of applications in nutrition, cooking, farming, and produce wholesale. Being able to identify the type (fruit or vegetable) and class (which particular fruit or vegetable) is the foundational layer upon which one can build useful techniques related to produce such as quality evaluation, insect infestation, ripeness evaluation, sorting, recipe generation, and a myriad of others. Creating a well-performing baseline fruit and vegetable classifier opens up a world of possibilities for computer vision applications within the produce industry.\n",
        "\n",
        "# Content\n",
        "This dataset contains three folders:\n",
        "\n",
        "- train (100 images each)\n",
        "- test (10 images each)\n",
        "- validation (10 images each)\n",
        "each of the above folders contains subfolders for different fruits and vegetables wherein the images for respective food items are present# Context\n",
        "\n",
        "This dataset contains images of the following food items:\n",
        "\n",
        "- **fruits**: banana, apple, pear, grapes, orange, kiwi, watermelon, pomegranate, pineapple, mango\n",
        "- **vegetables**: cucumber, carrot, capsicum, onion, potato, lemon, tomato, raddish, beetroot, cabbage, lettuce, spinach, soy bean, cauliflower, bell pepper, chilli pepper, turnip, corn, sweetcorn, sweet potato, paprika, jalepeño, ginger, garlic, peas, eggplant\n",
        "\n",
        "To balance the class distribution, we chose a subset of 10 of the 20 total vegetable classes. The following classes were analyzed as part of this project:\n",
        "\n",
        "Fruits = ['banana', 'apple', 'pear', 'grapes', 'orange', 'kiwi', 'watermelon', 'pomegranate', 'pineapple', 'mango']\n",
        "Vegetables = ['bell pepper', 'cauliflower', 'chilli pepper', 'peas', 'corn', 'spinach', 'turnip', 'garlic', 'ginger', 'cabbage']\n",
        "\n"
      ]
    },
    {
      "cell_type": "code",
      "execution_count": 1,
      "metadata": {
        "ExecuteTime": {
          "end_time": "2023-07-25T15:48:10.352967Z",
          "start_time": "2023-07-25T15:48:10.352812Z"
        },
        "id": "3qSIiM8kKE8d",
        "tags": []
      },
      "outputs": [],
      "source": [
        "#importing required libraries\n",
        "from skimage.io import imread\n",
        "from skimage.transform import resize\n",
        "from skimage.feature import hog\n",
        "from skimage import exposure\n",
        "import matplotlib.pyplot as plt\n",
        "# Load the Drive helper and mount\n",
        "#from google.colab import drive\n",
        "import xarray as x"
      ]
    },
    {
      "cell_type": "markdown",
      "metadata": {
        "id": "XFhtaM-2BoLo"
      },
      "source": [
        "# 1. Loading and preprocessing<a class=\"anchor\" id=\"1\"></a><a class=\"anchor\" id=\"1\"></a>"
      ]
    },
    {
      "cell_type": "code",
      "execution_count": 2,
      "metadata": {
        "ExecuteTime": {
          "end_time": "2023-07-25T15:48:10.605525Z",
          "start_time": "2023-07-25T15:48:10.605339Z"
        },
        "colab": {
          "base_uri": "https://localhost:8080/"
        },
        "id": "b6tCm8LNBoLq",
        "outputId": "a6478a74-75dc-4404-9b1f-8f53d8c46def",
        "tags": []
      },
      "outputs": [
        {
          "output_type": "stream",
          "name": "stdout",
          "text": [
            "Mounted at /content/drive\n"
          ]
        }
      ],
      "source": [
        "import os\n",
        "\n",
        "# Load the Drive helper and mount\n",
        "from google.colab import drive\n",
        "\n",
        "# This will prompt for authorization.\n",
        "mountdir = '/content/drive'\n",
        "drive.mount(mountdir, force_remount=True)\n",
        "\n",
        "localdir = mountdir + '/MyDrive'\n",
        "# Replace your folder here\n",
        "w281_directory = '/Berkeley/w281/Fruit-and-Vegetable-Classification/'\n",
        "inputdir = localdir + w281_directory\n",
        "# Uncomment below if using local folder\n",
        "# inputdir = \"/Users/mcliston/Library/CloudStorage/GoogleDrive-michael.c.liston@gmail.com/My Drive/Berkeley/w281/Fruit-and-Vegetable-Classification/\""
      ]
    },
    {
      "cell_type": "code",
      "execution_count": 3,
      "metadata": {
        "ExecuteTime": {
          "end_time": "2023-07-25T15:48:10.637197Z",
          "start_time": "2023-07-25T15:48:10.637044Z"
        },
        "id": "CX0NY9FsI5tm",
        "tags": []
      },
      "outputs": [],
      "source": [
        "import numpy as np\n",
        "import pandas as pd\n",
        "from pathlib import Path\n",
        "import os.path\n",
        "import matplotlib.pyplot as plt\n",
        "import cv2\n",
        "#import tensorflow as tf\n",
        "\n",
        "# Create a list with the filepaths for training and testing\n",
        "train_dir = Path(inputdir, './input/train')\n",
        "train_filepaths = list(train_dir.glob(r'**/*.jpg'))\n",
        "\n",
        "test_dir = Path(inputdir, './input/test')\n",
        "test_filepaths = list(test_dir.glob(r'**/*.jpg'))\n",
        "\n",
        "val_dir = Path(inputdir, './input/validation')\n",
        "val_filepaths = list(test_dir.glob(r'**/*.jpg'))\n",
        "\n",
        "def proc_img(filepath):\n",
        "    \"\"\" Create a DataFrame with the filepath and the labels of the pictures\n",
        "    \"\"\"\n",
        "\n",
        "    labels = [str(filepath[i]).split(\"/\")[-2] \\\n",
        "              for i in range(len(filepath))]\n",
        "\n",
        "    filepath = pd.Series(filepath, name='Filepath').astype(str)\n",
        "    labels = pd.Series(labels, name='Label')\n",
        "\n",
        "    # Concatenate filepaths and labels\n",
        "    df = pd.concat([filepath, labels], axis=1)\n",
        "\n",
        "    # Shuffle the DataFrame and reset index\n",
        "    df = df.sample(frac=1).reset_index(drop = True)\n",
        "\n",
        "    return df\n",
        "\n",
        "train_df = proc_img(train_filepaths)\n",
        "test_df = proc_img(test_filepaths)\n",
        "val_df = proc_img(val_filepaths)"
      ]
    },
    {
      "cell_type": "markdown",
      "source": [
        "### Loading Training/Validation/Test sets"
      ],
      "metadata": {
        "id": "iPbe-w1xc5aN"
      }
    },
    {
      "cell_type": "code",
      "source": [
        "modeling_datasets = inputdir + 'modeling/'"
      ],
      "metadata": {
        "id": "x2FVkfp4dKAZ"
      },
      "execution_count": 9,
      "outputs": []
    },
    {
      "cell_type": "code",
      "source": [
        "!ls drive/MyDrive/Berkeley/w281/Fruit-and-Vegetable-Classification/modeling/train"
      ],
      "metadata": {
        "colab": {
          "base_uri": "https://localhost:8080/"
        },
        "id": "pt_kw2jydmIi",
        "outputId": "54cd1209-1ca8-453d-f963-26d0d21816ff"
      },
      "execution_count": 18,
      "outputs": [
        {
          "output_type": "stream",
          "name": "stdout",
          "text": [
            "train_hog_features.csv\t      train_saturation_features.csv\n",
            "train_hue_features.csv\t      train_sobel_x_features.csv\n",
            "train_laplacian_features.csv  train_sobel_y_features.csv\n",
            "train_luminance_features.csv\n"
          ]
        }
      ]
    },
    {
      "cell_type": "code",
      "source": [
        "train_hog = pd.read_csv(modeling_datasets+'train/train_hog_features.csv')\n",
        "validation_hog = pd.read_csv(modeling_datasets+'validation/validation_hog_features.csv')\n",
        "test_hog = pd.read_csv(modeling_datasets+'test/test_hog_features.csv')"
      ],
      "metadata": {
        "id": "7WevwGlmc3fx"
      },
      "execution_count": 19,
      "outputs": []
    },
    {
      "cell_type": "code",
      "source": [
        "test_hog = test_hog.drop('Unnamed: 0', axis=1)"
      ],
      "metadata": {
        "id": "Wdxaxk-d3IVk"
      },
      "execution_count": 52,
      "outputs": []
    },
    {
      "cell_type": "code",
      "source": [
        "full_train = pd.concat([train_hog, validation_hog], axis=0)\n",
        "full_train = full_train.reset_index().drop(['Unnamed: 0', 'index'], axis=1)"
      ],
      "metadata": {
        "id": "9rD6jhjEqr6w"
      },
      "execution_count": 31,
      "outputs": []
    },
    {
      "cell_type": "markdown",
      "metadata": {
        "id": "ALKhiDGWM9pc"
      },
      "source": [
        "## Logistic Regression"
      ]
    },
    {
      "cell_type": "code",
      "source": [
        "from sklearn.linear_model import LogisticRegression\n",
        "from sklearn.model_selection import train_test_split, cross_val_score\n",
        "from sklearn.metrics import (roc_curve,\n",
        "                             auc, RocCurveDisplay,\n",
        "                             classification_report,\n",
        "                             confusion_matrix,accuracy_score)\n",
        "from sklearn.model_selection import StratifiedKFold\n",
        "\n",
        "from sklearn.metrics import accuracy_score, f1_score, make_scorer\n",
        "from hyperopt import tpe, hp, fmin, STATUS_OK,Trials\n",
        "from hyperopt.pyll.base import scope\n",
        "from tqdm import tqdm\n",
        "\n",
        "def warn(*args, **kwargs):\n",
        "    pass\n",
        "import warnings\n",
        "warnings.warn = warn\n",
        "\n",
        "def confusion_matrix_plot(conf_matrix, save_name='file.png'):\n",
        "    \"\"\" Confusion matrix matplotlib plot\n",
        "    # param conf_matrix: nested list of TP, TN, FP, FN\n",
        "    # return: None\n",
        "    \"\"\"\n",
        "\n",
        "    font = {'family' : 'normal',\n",
        "        'size'   : 14}\n",
        "    fig, ax = plt.subplots(figsize=(2.5, 2.5))\n",
        "    ax.matshow(conf_matrix, cmap=plt.cm.Blues, alpha=0.3)\n",
        "    for i in range(conf_matrix.shape[0]):\n",
        "        for j in range(conf_matrix.shape[1]):\n",
        "            ax.text(x=j, y=i, s=conf_matrix[i, j], va='center', ha='center', **font)\n",
        "\n",
        "    plt.xlabel('Predicted label')\n",
        "    plt.ylabel('True label')\n",
        "\n",
        "    plt.tight_layout()\n",
        "    # plt.savefig(save_name, facecolor='white')"
      ],
      "metadata": {
        "id": "tdIoeVCaXO_t"
      },
      "execution_count": 58,
      "outputs": []
    },
    {
      "cell_type": "markdown",
      "source": [
        "##### Bayesian Parameter Search"
      ],
      "metadata": {
        "id": "sRaWrKIzjd90"
      }
    },
    {
      "cell_type": "code",
      "source": [
        "space = {\n",
        "            'fit_intercept' : hp.choice('fit_intercept', [True, False]),\n",
        "            'tol' : hp.uniform('tol', 0.00001, 0.0001),\n",
        "            'C' : hp.uniform('C', 0.05, 3),\n",
        "            'solver' : hp.choice('solver', ['newton-cg', 'lbfgs', 'liblinear']),\n",
        "            'max_iter' : hp.choice('max_iter', range(100,1000)),\n",
        "            # 'scale': hp.choice('scale', [0, 1]),\n",
        "            'warm_start' : hp.choice('warm_start', [True, False]),\n",
        "            'multi_class' : 'auto',\n",
        "            'class_weight' : 'balanced'\n",
        "                }"
      ],
      "metadata": {
        "id": "d4wKrP64f0Bj"
      },
      "execution_count": 45,
      "outputs": []
    },
    {
      "cell_type": "code",
      "source": [
        "def optimize_lr(params):\n",
        "\n",
        "    skf = StratifiedKFold(n_splits=10)\n",
        "    clf = LogisticRegression(**params, n_jobs=-1)\n",
        "    f1_weighted = cross_val_score(clf, full_train.iloc[:, 0:-1], full_train['label'],\n",
        "                         scoring=make_scorer(accuracy_score),\n",
        "                        cv=skf).mean()\n",
        "    best_score = np.mean(f1_weighted)\n",
        "    loss = 1 - best_score\n",
        "    return {\"loss\":loss, \"status\":STATUS_OK}"
      ],
      "metadata": {
        "id": "6-fm-ouTjx-x"
      },
      "execution_count": 43,
      "outputs": []
    },
    {
      "cell_type": "code",
      "source": [
        "RANDOM_SEED = 1234\n",
        "trials = Trials()\n",
        "\n",
        "best = fmin(\n",
        "    fn=optimize_lr,\n",
        "    space=space,\n",
        "    algo=tpe.suggest,\n",
        "    max_evals=20,\n",
        "    trials=trials,\n",
        "    rstate=np.random.default_rng(RANDOM_SEED)\n",
        ")\n",
        "\n",
        "print(\"Best: {}\".format(best))"
      ],
      "metadata": {
        "colab": {
          "base_uri": "https://localhost:8080/"
        },
        "id": "J-RT-hvXs_Sl",
        "outputId": "8c527e5c-60fe-438e-92ce-e044b27e375c"
      },
      "execution_count": 48,
      "outputs": [
        {
          "output_type": "stream",
          "name": "stdout",
          "text": [
            "100%|██████████| 20/20 [18:29<00:00, 55.47s/trial, best loss: 0.788961038961039]\n",
            "Best: {'C': 2.35920464457673, 'fit_intercept': 0, 'max_iter': 596, 'solver': 1, 'tol': 3.1488465609992565e-05, 'warm_start': 1}\n"
          ]
        }
      ]
    },
    {
      "cell_type": "code",
      "source": [
        "params = {'C': 2.35920464457673,\n",
        "          'fit_intercept': True,\n",
        "          'max_iter': 596,\n",
        "          'solver': 'lbfgs',\n",
        "          'tol': 3.1488465609992565e-05,\n",
        "          'warm_start': False}\n",
        "\n",
        "hog_model = LogisticRegression(**params, n_jobs=-1)\n",
        "hog_model.fit(full_train.iloc[:,0:-1], full_train['label'])\n",
        "\n",
        "y_pred = hog_model.predict(test_hog.iloc[:,0:-1])\n"
      ],
      "metadata": {
        "id": "7qmI7bmSuT89"
      },
      "execution_count": 53,
      "outputs": []
    },
    {
      "cell_type": "code",
      "source": [
        "accuracy_score(test_hog['label'], y_pred)"
      ],
      "metadata": {
        "colab": {
          "base_uri": "https://localhost:8080/"
        },
        "id": "jzabjApQ2wzH",
        "outputId": "592e8278-4866-4b85-f3ba-e32868ad95da"
      },
      "execution_count": 55,
      "outputs": [
        {
          "output_type": "execute_result",
          "data": {
            "text/plain": [
              "0.47593582887700536"
            ]
          },
          "metadata": {},
          "execution_count": 55
        }
      ]
    },
    {
      "cell_type": "code",
      "source": [
        "print(classification_report(test_hog['label'], y_pred))"
      ],
      "metadata": {
        "colab": {
          "base_uri": "https://localhost:8080/"
        },
        "id": "2mQoIdfI3jeb",
        "outputId": "ef2c2df2-1ddf-44f9-9f53-8d070fefdd5c"
      },
      "execution_count": 56,
      "outputs": [
        {
          "output_type": "stream",
          "name": "stdout",
          "text": [
            "               precision    recall  f1-score   support\n",
            "\n",
            "        apple       0.00      0.00      0.00         9\n",
            "       banana       1.00      0.44      0.62         9\n",
            "  bell pepper       0.17      0.11      0.13         9\n",
            "      cabbage       0.43      0.60      0.50        10\n",
            "  cauliflower       1.00      0.22      0.36         9\n",
            "chilli pepper       1.00      0.71      0.83         7\n",
            "         corn       0.71      0.50      0.59        10\n",
            "       garlic       0.54      0.70      0.61        10\n",
            "       ginger       0.00      0.00      0.00        10\n",
            "       grapes       0.35      0.75      0.48         8\n",
            "         kiwi       0.38      0.80      0.52        10\n",
            "        mango       0.50      0.40      0.44        10\n",
            "       orange       0.00      0.00      0.00         7\n",
            "         pear       1.00      0.60      0.75        10\n",
            "         peas       0.47      0.78      0.58         9\n",
            "    pineapple       0.26      0.80      0.39        10\n",
            "  pomegranate       0.40      0.40      0.40        10\n",
            "      spinach       1.00      0.20      0.33        10\n",
            "       turnip       0.59      1.00      0.74        10\n",
            "   watermelon       0.44      0.40      0.42        10\n",
            "\n",
            "     accuracy                           0.48       187\n",
            "    macro avg       0.51      0.47      0.44       187\n",
            " weighted avg       0.51      0.48      0.44       187\n",
            "\n"
          ]
        }
      ]
    },
    {
      "cell_type": "code",
      "source": [],
      "metadata": {
        "id": "2fJIkWO35BJ_"
      },
      "execution_count": null,
      "outputs": []
    },
    {
      "cell_type": "code",
      "source": [
        "conf_matrix = confusion_matrix(test_hog['label'], y_pred)\n",
        "conf_matrix"
      ],
      "metadata": {
        "colab": {
          "base_uri": "https://localhost:8080/"
        },
        "id": "lyOuoWhT3z3A",
        "outputId": "a8beb4aa-c561-4e5f-b50d-2c3027a9e3c4"
      },
      "execution_count": 60,
      "outputs": [
        {
          "output_type": "execute_result",
          "data": {
            "text/plain": [
              "array([[ 0,  0,  2,  3,  0,  0,  0,  0,  0,  2,  0,  0,  0,  0,  1,  0,\n",
              "         0,  0,  1,  0],\n",
              "       [ 0,  4,  0,  0,  0,  0,  0,  0,  0,  0,  1,  0,  0,  0,  1,  2,\n",
              "         0,  0,  1,  0],\n",
              "       [ 0,  0,  1,  2,  0,  0,  0,  0,  0,  3,  2,  0,  0,  0,  0,  0,\n",
              "         0,  0,  1,  0],\n",
              "       [ 0,  0,  0,  6,  0,  0,  0,  0,  0,  0,  0,  3,  0,  0,  0,  0,\n",
              "         0,  0,  0,  1],\n",
              "       [ 0,  0,  0,  0,  2,  0,  0,  0,  0,  0,  1,  0,  0,  0,  0,  3,\n",
              "         1,  0,  1,  1],\n",
              "       [ 0,  0,  0,  1,  0,  5,  1,  0,  0,  0,  0,  0,  0,  0,  0,  0,\n",
              "         0,  0,  0,  0],\n",
              "       [ 0,  0,  0,  0,  0,  0,  5,  0,  0,  0,  2,  0,  0,  0,  0,  1,\n",
              "         0,  0,  2,  0],\n",
              "       [ 0,  0,  0,  0,  0,  0,  0,  7,  0,  1,  0,  0,  0,  0,  2,  0,\n",
              "         0,  0,  0,  0],\n",
              "       [ 0,  0,  0,  0,  0,  0,  0,  1,  0,  1,  2,  0,  0,  0,  1,  2,\n",
              "         1,  0,  0,  2],\n",
              "       [ 0,  0,  0,  0,  0,  0,  0,  1,  0,  6,  0,  0,  0,  0,  0,  1,\n",
              "         0,  0,  0,  0],\n",
              "       [ 0,  0,  0,  0,  0,  0,  0,  0,  0,  0,  8,  0,  0,  0,  0,  1,\n",
              "         1,  0,  0,  0],\n",
              "       [ 0,  0,  0,  1,  0,  0,  0,  1,  0,  0,  2,  4,  0,  0,  1,  0,\n",
              "         1,  0,  0,  0],\n",
              "       [ 0,  0,  1,  0,  0,  0,  0,  1,  0,  1,  0,  1,  0,  0,  0,  2,\n",
              "         1,  0,  0,  0],\n",
              "       [ 0,  0,  0,  1,  0,  0,  0,  0,  0,  0,  0,  0,  0,  6,  0,  3,\n",
              "         0,  0,  0,  0],\n",
              "       [ 0,  0,  0,  0,  0,  0,  1,  0,  0,  0,  0,  0,  0,  0,  7,  0,\n",
              "         0,  0,  1,  0],\n",
              "       [ 0,  0,  0,  0,  0,  0,  0,  1,  0,  0,  0,  0,  0,  0,  1,  8,\n",
              "         0,  0,  0,  0],\n",
              "       [ 0,  0,  1,  0,  0,  0,  0,  0,  0,  0,  0,  0,  0,  0,  1,  4,\n",
              "         4,  0,  0,  0],\n",
              "       [ 0,  0,  1,  0,  0,  0,  0,  1,  0,  1,  0,  0,  0,  0,  0,  4,\n",
              "         0,  2,  0,  1],\n",
              "       [ 0,  0,  0,  0,  0,  0,  0,  0,  0,  0,  0,  0,  0,  0,  0,  0,\n",
              "         0,  0, 10,  0],\n",
              "       [ 0,  0,  0,  0,  0,  0,  0,  0,  0,  2,  3,  0,  0,  0,  0,  0,\n",
              "         1,  0,  0,  4]])"
            ]
          },
          "metadata": {},
          "execution_count": 60
        }
      ]
    }
  ],
  "metadata": {
    "colab": {
      "provenance": [],
      "machine_shape": "hm",
      "include_colab_link": true
    },
    "kernelspec": {
      "display_name": "dl",
      "language": "python",
      "name": "dl"
    },
    "language_info": {
      "codemirror_mode": {
        "name": "ipython",
        "version": 3
      },
      "file_extension": ".py",
      "mimetype": "text/x-python",
      "name": "python",
      "nbconvert_exporter": "python",
      "pygments_lexer": "ipython3",
      "version": "3.8.16"
    }
  },
  "nbformat": 4,
  "nbformat_minor": 0
}