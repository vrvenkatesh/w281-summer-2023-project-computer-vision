{
  "cells": [
    {
      "cell_type": "markdown",
      "metadata": {
        "id": "view-in-github",
        "colab_type": "text"
      },
      "source": [
        "<a href=\"https://colab.research.google.com/github/MichaelTay/w281-summer-2023-project/blob/mcliston_modeling/logistic_regression_HOG_features.ipynb\" target=\"_parent\"><img src=\"https://colab.research.google.com/assets/colab-badge.svg\" alt=\"Open In Colab\"/></a>"
      ]
    },
    {
      "cell_type": "markdown",
      "metadata": {
        "id": "1p8wbonrBoLl"
      },
      "source": [
        "# Fruit and Vegetable Classification\n",
        "## \\# Class activation heatmap for image classification\n",
        "Taken from: https://www.kaggle.com/code/databeru/fruit-and-vegetable-classification\n",
        "\n",
        "## \\# Grad-CAM class activation visualization\n",
        "\n",
        "Having 3861 images of 36 different fruits/vegetables\n",
        "\n",
        "![fruit vegetable](https://i.imgur.com/KUAcIQD.jpeg)\n",
        "\n",
        "[![Open In Colab](https://colab.research.google.com/assets/colab-badge.svg)](https://colab.research.google.com/github/MichaelTay/w281-summer-2023-project/blob/main/feature_detection.ipynb)"
      ]
    },
    {
      "cell_type": "markdown",
      "metadata": {
        "id": "KaL5HEJPBoLn"
      },
      "source": [
        "<h1>Table of contents</h1>\n",
        "\n",
        "\n",
        "<ul>\n",
        "<li><a href=\"#1\"><strong>1. Loading and preprocessing</strong></a>\n",
        "</ul>\n",
        "    \n",
        "<ul>\n",
        "<li><a href=\"#2\"><strong>2. Load the Images with a generator and Data Augmentation</strong></a>\n",
        "</ul>\n",
        "\n",
        "<ul>\n",
        "<li><a href=\"#3\"><strong>3. Train the model</strong></a>\n",
        "</ul>\n",
        "\n",
        "<ul>\n",
        "<li><a href=\"#4\"><strong>4. Visualize the result</strong></a>\n",
        "</ul>\n",
        "\n",
        "<ul>\n",
        "<li><a href=\"#5\"><strong>5. Class activation heatmap for image classification</strong></a>\n",
        "</ul>\n",
        "\n",
        "# Context\n",
        "\n",
        "Image classification of fruits and vegetables has a wide range of applications in nutrition, cooking, farming, and produce wholesale. Being able to identify the type (fruit or vegetable) and class (which particular fruit or vegetable) is the foundational layer upon which one can build useful techniques related to produce such as quality evaluation, insect infestation, ripeness evaluation, sorting, recipe generation, and a myriad of others. Creating a well-performing baseline fruit and vegetable classifier opens up a world of possibilities for computer vision applications within the produce industry.\n",
        "\n",
        "# Content\n",
        "This dataset contains three folders:\n",
        "\n",
        "- train (100 images each)\n",
        "- test (10 images each)\n",
        "- validation (10 images each)\n",
        "each of the above folders contains subfolders for different fruits and vegetables wherein the images for respective food items are present# Context\n",
        "\n",
        "This dataset contains images of the following food items:\n",
        "\n",
        "- **fruits**: banana, apple, pear, grapes, orange, kiwi, watermelon, pomegranate, pineapple, mango\n",
        "- **vegetables**: cucumber, carrot, capsicum, onion, potato, lemon, tomato, raddish, beetroot, cabbage, lettuce, spinach, soy bean, cauliflower, bell pepper, chilli pepper, turnip, corn, sweetcorn, sweet potato, paprika, jalepeño, ginger, garlic, peas, eggplant\n",
        "\n",
        "To balance the class distribution, we chose a subset of 10 of the 20 total vegetable classes. The following classes were analyzed as part of this project:\n",
        "\n",
        "Fruits = ['banana', 'apple', 'pear', 'grapes', 'orange', 'kiwi', 'watermelon', 'pomegranate', 'pineapple', 'mango']\n",
        "Vegetables = ['bell pepper', 'cauliflower', 'chilli pepper', 'peas', 'corn', 'spinach', 'turnip', 'garlic', 'ginger', 'cabbage']\n",
        "\n"
      ]
    },
    {
      "cell_type": "code",
      "execution_count": 2,
      "metadata": {
        "ExecuteTime": {
          "end_time": "2023-07-25T15:48:10.352967Z",
          "start_time": "2023-07-25T15:48:10.352812Z"
        },
        "id": "3qSIiM8kKE8d",
        "tags": []
      },
      "outputs": [],
      "source": [
        "#importing required libraries\n",
        "from skimage.io import imread\n",
        "from skimage.transform import resize\n",
        "from skimage.feature import hog\n",
        "from skimage import exposure\n",
        "import matplotlib.pyplot as plt\n",
        "# Load the Drive helper and mount\n",
        "#from google.colab import drive\n",
        "import xarray as x"
      ]
    },
    {
      "cell_type": "markdown",
      "metadata": {
        "id": "XFhtaM-2BoLo"
      },
      "source": [
        "# 1. Loading and preprocessing<a class=\"anchor\" id=\"1\"></a><a class=\"anchor\" id=\"1\"></a>"
      ]
    },
    {
      "cell_type": "code",
      "execution_count": 3,
      "metadata": {
        "ExecuteTime": {
          "end_time": "2023-07-25T15:48:10.605525Z",
          "start_time": "2023-07-25T15:48:10.605339Z"
        },
        "colab": {
          "base_uri": "https://localhost:8080/"
        },
        "id": "b6tCm8LNBoLq",
        "outputId": "bc5f69a2-f24a-4691-df95-0508def90b4d",
        "tags": []
      },
      "outputs": [
        {
          "output_type": "stream",
          "name": "stdout",
          "text": [
            "Mounted at /content/drive\n"
          ]
        }
      ],
      "source": [
        "import os\n",
        "\n",
        "# Load the Drive helper and mount\n",
        "from google.colab import drive\n",
        "\n",
        "# This will prompt for authorization.\n",
        "mountdir = '/content/drive'\n",
        "drive.mount(mountdir, force_remount=True)\n",
        "\n",
        "localdir = mountdir + '/MyDrive'\n",
        "# Replace your folder here\n",
        "w281_directory = '/Berkeley/w281/Fruit-and-Vegetable-Classification/'\n",
        "inputdir = localdir + w281_directory\n",
        "# Uncomment below if using local folder\n",
        "# inputdir = \"/Users/mcliston/Library/CloudStorage/GoogleDrive-michael.c.liston@gmail.com/My Drive/Berkeley/w281/Fruit-and-Vegetable-Classification/\""
      ]
    },
    {
      "cell_type": "code",
      "execution_count": 4,
      "metadata": {
        "ExecuteTime": {
          "end_time": "2023-07-25T15:48:10.637197Z",
          "start_time": "2023-07-25T15:48:10.637044Z"
        },
        "id": "CX0NY9FsI5tm",
        "tags": []
      },
      "outputs": [],
      "source": [
        "import numpy as np\n",
        "import pandas as pd\n",
        "from pathlib import Path\n",
        "import os.path\n",
        "import matplotlib.pyplot as plt\n",
        "import cv2\n",
        "#import tensorflow as tf\n",
        "\n",
        "# Create a list with the filepaths for training and testing\n",
        "train_dir = Path(inputdir, './input/train')\n",
        "train_filepaths = list(train_dir.glob(r'**/*.jpg'))\n",
        "\n",
        "test_dir = Path(inputdir, './input/test')\n",
        "test_filepaths = list(test_dir.glob(r'**/*.jpg'))\n",
        "\n",
        "val_dir = Path(inputdir, './input/validation')\n",
        "val_filepaths = list(test_dir.glob(r'**/*.jpg'))\n",
        "\n",
        "def proc_img(filepath):\n",
        "    \"\"\" Create a DataFrame with the filepath and the labels of the pictures\n",
        "    \"\"\"\n",
        "\n",
        "    labels = [str(filepath[i]).split(\"/\")[-2] \\\n",
        "              for i in range(len(filepath))]\n",
        "\n",
        "    filepath = pd.Series(filepath, name='Filepath').astype(str)\n",
        "    labels = pd.Series(labels, name='Label')\n",
        "\n",
        "    # Concatenate filepaths and labels\n",
        "    df = pd.concat([filepath, labels], axis=1)\n",
        "\n",
        "    # Shuffle the DataFrame and reset index\n",
        "    df = df.sample(frac=1).reset_index(drop = True)\n",
        "\n",
        "    return df\n",
        "\n",
        "train_df = proc_img(train_filepaths)\n",
        "test_df = proc_img(test_filepaths)\n",
        "val_df = proc_img(val_filepaths)"
      ]
    },
    {
      "cell_type": "markdown",
      "source": [
        "### Loading Training/Validation/Test sets"
      ],
      "metadata": {
        "id": "iPbe-w1xc5aN"
      }
    },
    {
      "cell_type": "code",
      "source": [
        "modeling_datasets = inputdir + 'modeling/'"
      ],
      "metadata": {
        "id": "x2FVkfp4dKAZ"
      },
      "execution_count": 5,
      "outputs": []
    },
    {
      "cell_type": "code",
      "source": [
        "!ls drive/MyDrive/Berkeley/w281/Fruit-and-Vegetable-Classification/modeling/train"
      ],
      "metadata": {
        "colab": {
          "base_uri": "https://localhost:8080/"
        },
        "id": "pt_kw2jydmIi",
        "outputId": "54cd1209-1ca8-453d-f963-26d0d21816ff"
      },
      "execution_count": null,
      "outputs": [
        {
          "output_type": "stream",
          "name": "stdout",
          "text": [
            "train_hog_features.csv\t      train_saturation_features.csv\n",
            "train_hue_features.csv\t      train_sobel_x_features.csv\n",
            "train_laplacian_features.csv  train_sobel_y_features.csv\n",
            "train_luminance_features.csv\n"
          ]
        }
      ]
    },
    {
      "cell_type": "markdown",
      "source": [],
      "metadata": {
        "id": "ypgFn-nhJa-Z"
      }
    },
    {
      "cell_type": "code",
      "source": [
        "train_hog = pd.read_csv(modeling_datasets+'train/train_hog_features.csv')\n",
        "validation_hog = pd.read_csv(modeling_datasets+'validation/validation_hog_features.csv')\n",
        "test_hog = pd.read_csv(modeling_datasets+'test/test_hog_features.csv')\n",
        "\n",
        "train_hog = train_hog.drop('Unnamed: 0', axis=1)\n",
        "validation_hog = validation_hog.drop('Unnamed: 0', axis=1)\n",
        "test_hog = test_hog.drop('Unnamed: 0', axis=1)\n",
        "\n",
        "# full_train = pd.concat([train_hog, validation_hog], axis=0)\n",
        "# full_train = full_train.reset_index().drop(['Unnamed: 0', 'index'], axis=1)"
      ],
      "metadata": {
        "id": "7WevwGlmc3fx"
      },
      "execution_count": 6,
      "outputs": []
    },
    {
      "cell_type": "markdown",
      "source": [
        "##### Mapping labels to ints"
      ],
      "metadata": {
        "id": "4J5wN39X5eBf"
      }
    },
    {
      "cell_type": "code",
      "source": [
        "unique_training_labels = set([i for i in train_hog['label'].tolist()])\n",
        "unique_val_labels = set([i for i in validation_hog['label'].tolist()])\n",
        "unique_test_labels = set([i for i in test_hog['label'].tolist()])\n",
        "\n",
        "all_unique_labels = set(list(unique_training_labels) + list(unique_val_labels) + list(unique_test_labels))\n",
        "all_unique_labels = sorted(list(all_unique_labels))\n",
        "label_numeric_mapping = {k:v for v,k in enumerate(all_unique_labels)}"
      ],
      "metadata": {
        "id": "G71jIw7b5dcS"
      },
      "execution_count": 7,
      "outputs": []
    },
    {
      "cell_type": "code",
      "source": [
        "# full_train['label'] = full_train['label'].apply(lambda x: label_numeric_mapping[x])\n",
        "# test_hog['label'] = test_hog['label'].apply(lambda x: label_numeric_mapping[x])"
      ],
      "metadata": {
        "id": "HvoGWX0r6i5u"
      },
      "execution_count": null,
      "outputs": []
    },
    {
      "cell_type": "markdown",
      "metadata": {
        "id": "ALKhiDGWM9pc"
      },
      "source": [
        "## Logistic Regression"
      ]
    },
    {
      "cell_type": "code",
      "source": [
        "from sklearn.linear_model import LogisticRegression\n",
        "from sklearn.model_selection import train_test_split, cross_val_score\n",
        "from sklearn.metrics import (roc_curve,\n",
        "                             auc, RocCurveDisplay,\n",
        "                             classification_report,\n",
        "                             confusion_matrix,accuracy_score)\n",
        "from sklearn.model_selection import StratifiedKFold\n",
        "\n",
        "from sklearn.metrics import accuracy_score, f1_score, make_scorer, ConfusionMatrixDisplay\n",
        "from sklearn.utils import shuffle\n",
        "\n",
        "from hyperopt import tpe, hp, fmin, STATUS_OK,Trials\n",
        "from hyperopt.pyll.base import scope\n",
        "from tqdm import tqdm\n",
        "\n",
        "def warn(*args, **kwargs):\n",
        "    pass\n",
        "import warnings\n",
        "warnings.warn = warn\n",
        "\n",
        "## Learning Curve\n",
        "def plot_learning_curve(estimator, title, X, y, ylim=None, cv=None, n_jobs=None, train_sizes=np.linspace(0.1, 1.0, 5)):\n",
        "    \"\"\"\n",
        "    Generate a simple plot of the learning curve.\n",
        "\n",
        "    Parameters:\n",
        "        estimator: The machine learning model or pipeline.\n",
        "        title: The title of the plot.\n",
        "        X: The feature matrix.\n",
        "        y: The target vector.\n",
        "        ylim: Tuple with (min, max) values to define the y-axis limits.\n",
        "        cv: Cross-validation strategy. If None, 5-fold cross-validation is used.\n",
        "        n_jobs: Number of jobs to run in parallel (-1 uses all available processors).\n",
        "        train_sizes: Array of training set sizes to use for the learning curve.\n",
        "    \"\"\"\n",
        "    plt.figure()\n",
        "    plt.title(title)\n",
        "    if ylim is not None:\n",
        "        plt.ylim(*ylim)\n",
        "    plt.xlabel(\"Training examples\")\n",
        "    plt.ylabel(\"Score\")\n",
        "    train_sizes, train_scores, test_scores = learning_curve(\n",
        "        estimator, X, y, cv=cv, n_jobs=n_jobs, train_sizes=train_sizes\n",
        "    )\n",
        "    train_scores_mean = np.mean(train_scores, axis=1)\n",
        "    train_scores_std = np.std(train_scores, axis=1)\n",
        "    test_scores_mean = np.mean(test_scores, axis=1)\n",
        "    test_scores_std = np.std(test_scores, axis=1)\n",
        "    plt.grid()\n",
        "\n",
        "    plt.fill_between(\n",
        "        train_sizes,\n",
        "        train_scores_mean - train_scores_std,\n",
        "        train_scores_mean + train_scores_std,\n",
        "        alpha=0.1,\n",
        "        color=\"r\",\n",
        "    )\n",
        "    plt.fill_between(\n",
        "        train_sizes,\n",
        "        test_scores_mean - test_scores_std,\n",
        "        test_scores_mean + test_scores_std,\n",
        "        alpha=0.1,\n",
        "        color=\"g\",\n",
        "    )\n",
        "    plt.plot(\n",
        "        train_sizes,\n",
        "        train_scores_mean,\n",
        "        \"o-\",\n",
        "        color=\"r\",\n",
        "        label=\"Training score\",\n",
        "    )\n",
        "    plt.plot(\n",
        "        train_sizes,\n",
        "        test_scores_mean,\n",
        "        \"o-\",\n",
        "        color=\"g\",\n",
        "        label=\"Cross-validation score\",\n",
        "    )\n",
        "    plt.legend(loc=\"best\")\n",
        "    return plt"
      ],
      "metadata": {
        "id": "tdIoeVCaXO_t"
      },
      "execution_count": 8,
      "outputs": []
    },
    {
      "cell_type": "markdown",
      "source": [
        "##### Bayesian Parameter Search"
      ],
      "metadata": {
        "id": "sRaWrKIzjd90"
      }
    },
    {
      "cell_type": "code",
      "source": [
        "# space = {\n",
        "#           'fit_intercept' : hp.choice('fit_intercept', [True, False]),\n",
        "#           'tol' : hp.uniform('tol', 0.00001, 0.0001),\n",
        "#           'C' : hp.uniform('C', 0.05, 3),\n",
        "#           'solver' : hp.choice('solver', ['newton-cg', 'lbfgs', 'liblinear']),\n",
        "#           'max_iter' : hp.choice('max_iter', range(100,1000)),\n",
        "#           # 'scale': hp.choice('scale', [0, 1]),\n",
        "#           'warm_start' : hp.choice('warm_start', [True, False]),\n",
        "#           'multi_class' : 'auto',\n",
        "#           'class_weight' : 'balanced'\n",
        "#               }\n",
        "\n",
        "space = {\n",
        "    'C' : hp.loguniform('C', low=-4*np.log(10), high=4*np.log(10))\n",
        "}"
      ],
      "metadata": {
        "id": "d4wKrP64f0Bj"
      },
      "execution_count": 13,
      "outputs": []
    },
    {
      "cell_type": "code",
      "source": [
        "def optimize_lr(params):\n",
        "\n",
        "    skf = StratifiedKFold(n_splits=3)\n",
        "    clf = LogisticRegression(**params,\n",
        "                             solver='lbfgs',\n",
        "                             fit_intercept=True,\n",
        "                             tol=0.0001,\n",
        "                             max_iter=100,\n",
        "                             warm_start=True,\n",
        "                             multi_class='ovr',\n",
        "                            class_weight='balanced',\n",
        "                            verbose=1,\n",
        "                             n_jobs=-1)\n",
        "    f1_weighted = cross_val_score(clf, train_hog.iloc[:, 0:-1], train_hog['label'],\n",
        "                         scoring=make_scorer(accuracy_score),\n",
        "                        cv=skf).mean()\n",
        "    best_score = np.mean(f1_weighted)\n",
        "    loss = 1 - best_score\n",
        "    return {\"loss\":loss, \"status\":STATUS_OK}"
      ],
      "metadata": {
        "id": "6-fm-ouTjx-x"
      },
      "execution_count": 14,
      "outputs": []
    },
    {
      "cell_type": "code",
      "source": [
        "RANDOM_SEED = 42\n",
        "trials = Trials()\n",
        "\n",
        "best = fmin(\n",
        "    fn=optimize_lr,\n",
        "    space=space,\n",
        "    algo=tpe.suggest,\n",
        "    max_evals=10,\n",
        "    trials=trials,\n",
        "    rstate=np.random.default_rng(RANDOM_SEED)\n",
        ")\n",
        "\n",
        "print(\"Best: {}\".format(best))"
      ],
      "metadata": {
        "colab": {
          "base_uri": "https://localhost:8080/"
        },
        "id": "J-RT-hvXs_Sl",
        "outputId": "836859aa-5c39-4548-84bc-2c1f1de0f801"
      },
      "execution_count": 15,
      "outputs": [
        {
          "output_type": "stream",
          "name": "stdout",
          "text": [
            "\r  0%|          | 0/10 [00:00<?, ?trial/s, best loss=?]"
          ]
        },
        {
          "output_type": "stream",
          "name": "stderr",
          "text": [
            "[Parallel(n_jobs=-1)]: Using backend LokyBackend with 4 concurrent workers.\n",
            "\n",
            "[Parallel(n_jobs=-1)]: Done  20 out of  20 | elapsed:    9.7s finished\n",
            "\n",
            "[Parallel(n_jobs=-1)]: Using backend LokyBackend with 4 concurrent workers.\n",
            "\n",
            "[Parallel(n_jobs=-1)]: Done  20 out of  20 | elapsed:    5.9s finished\n",
            "\n",
            "[Parallel(n_jobs=-1)]: Using backend LokyBackend with 4 concurrent workers.\n",
            "\n",
            "[Parallel(n_jobs=-1)]: Done  20 out of  20 | elapsed:    6.2s finished\n",
            "\n"
          ]
        },
        {
          "output_type": "stream",
          "name": "stdout",
          "text": [
            "\r 10%|█         | 1/10 [00:25<03:48, 25.39s/trial, best loss: 0.8253968253968254]"
          ]
        },
        {
          "output_type": "stream",
          "name": "stderr",
          "text": [
            "[Parallel(n_jobs=-1)]: Using backend LokyBackend with 4 concurrent workers.\n",
            "\n",
            "[Parallel(n_jobs=-1)]: Done  20 out of  20 | elapsed:    0.6s finished\n",
            "\n",
            "[Parallel(n_jobs=-1)]: Using backend LokyBackend with 4 concurrent workers.\n",
            "\n",
            "[Parallel(n_jobs=-1)]: Done  20 out of  20 | elapsed:    0.5s finished\n",
            "\n",
            "[Parallel(n_jobs=-1)]: Using backend LokyBackend with 4 concurrent workers.\n",
            "\n",
            "[Parallel(n_jobs=-1)]: Done  20 out of  20 | elapsed:    0.5s finished\n",
            "\n"
          ]
        },
        {
          "output_type": "stream",
          "name": "stdout",
          "text": [
            "\r 20%|██        | 2/10 [00:30<01:48, 13.53s/trial, best loss: 0.8253968253968254]"
          ]
        },
        {
          "output_type": "stream",
          "name": "stderr",
          "text": [
            "[Parallel(n_jobs=-1)]: Using backend LokyBackend with 4 concurrent workers.\n",
            "\n",
            "[Parallel(n_jobs=-1)]: Done  20 out of  20 | elapsed:    0.7s finished\n",
            "\n",
            "[Parallel(n_jobs=-1)]: Using backend LokyBackend with 4 concurrent workers.\n",
            "\n",
            "[Parallel(n_jobs=-1)]: Done  20 out of  20 | elapsed:    0.7s finished\n",
            "\n",
            "[Parallel(n_jobs=-1)]: Using backend LokyBackend with 4 concurrent workers.\n",
            "\n",
            "[Parallel(n_jobs=-1)]: Done  20 out of  20 | elapsed:    0.5s finished\n",
            "\n"
          ]
        },
        {
          "output_type": "stream",
          "name": "stdout",
          "text": [
            "\r 30%|███       | 3/10 [00:36<01:09,  9.89s/trial, best loss: 0.8253968253968254]"
          ]
        },
        {
          "output_type": "stream",
          "name": "stderr",
          "text": [
            "[Parallel(n_jobs=-1)]: Using backend LokyBackend with 4 concurrent workers.\n",
            "\n",
            "[Parallel(n_jobs=-1)]: Done  20 out of  20 | elapsed:    0.7s finished\n",
            "\n",
            "[Parallel(n_jobs=-1)]: Using backend LokyBackend with 4 concurrent workers.\n",
            "\n",
            "[Parallel(n_jobs=-1)]: Done  20 out of  20 | elapsed:    0.7s finished\n",
            "\n",
            "[Parallel(n_jobs=-1)]: Using backend LokyBackend with 4 concurrent workers.\n",
            "\n",
            "[Parallel(n_jobs=-1)]: Done  20 out of  20 | elapsed:    0.7s finished\n",
            "\n"
          ]
        },
        {
          "output_type": "stream",
          "name": "stdout",
          "text": [
            "\r 40%|████      | 4/10 [00:41<00:49,  8.24s/trial, best loss: 0.8253968253968254]"
          ]
        },
        {
          "output_type": "stream",
          "name": "stderr",
          "text": [
            "[Parallel(n_jobs=-1)]: Using backend LokyBackend with 4 concurrent workers.\n",
            "\n",
            "[Parallel(n_jobs=-1)]: Done  20 out of  20 | elapsed:    1.4s finished\n",
            "\n",
            "[Parallel(n_jobs=-1)]: Using backend LokyBackend with 4 concurrent workers.\n",
            "\n",
            "[Parallel(n_jobs=-1)]: Done  13 out of  20 | elapsed:    1.3s remaining:    0.7s\n",
            "\n",
            "[Parallel(n_jobs=-1)]: Done  20 out of  20 | elapsed:    1.6s finished\n",
            "\n",
            "[Parallel(n_jobs=-1)]: Using backend LokyBackend with 4 concurrent workers.\n",
            "\n",
            "[Parallel(n_jobs=-1)]: Done  20 out of  20 | elapsed:    1.4s finished\n",
            "\n"
          ]
        },
        {
          "output_type": "stream",
          "name": "stdout",
          "text": [
            "\r 50%|█████     | 5/10 [00:49<00:40,  8.14s/trial, best loss: 0.8203463203463204]"
          ]
        },
        {
          "output_type": "stream",
          "name": "stderr",
          "text": [
            "[Parallel(n_jobs=-1)]: Using backend LokyBackend with 4 concurrent workers.\n",
            "\n",
            "[Parallel(n_jobs=-1)]: Done  20 out of  20 | elapsed:    5.4s finished\n",
            "\n",
            "[Parallel(n_jobs=-1)]: Using backend LokyBackend with 4 concurrent workers.\n",
            "\n",
            "[Parallel(n_jobs=-1)]: Done  20 out of  20 | elapsed:    6.3s finished\n",
            "\n",
            "[Parallel(n_jobs=-1)]: Using backend LokyBackend with 4 concurrent workers.\n",
            "\n",
            "[Parallel(n_jobs=-1)]: Done  20 out of  20 | elapsed:    5.4s finished\n",
            "\n"
          ]
        },
        {
          "output_type": "stream",
          "name": "stdout",
          "text": [
            "\r 60%|██████    | 6/10 [01:10<00:49, 12.39s/trial, best loss: 0.8203463203463204]"
          ]
        },
        {
          "output_type": "stream",
          "name": "stderr",
          "text": [
            "[Parallel(n_jobs=-1)]: Using backend LokyBackend with 4 concurrent workers.\n",
            "\n",
            "[Parallel(n_jobs=-1)]: Done  20 out of  20 | elapsed:    5.9s finished\n",
            "\n",
            "[Parallel(n_jobs=-1)]: Using backend LokyBackend with 4 concurrent workers.\n",
            "\n",
            "[Parallel(n_jobs=-1)]: Done  20 out of  20 | elapsed:    4.2s finished\n",
            "\n",
            "[Parallel(n_jobs=-1)]: Using backend LokyBackend with 4 concurrent workers.\n",
            "\n",
            "[Parallel(n_jobs=-1)]: Done  20 out of  20 | elapsed:    4.2s finished\n",
            "\n"
          ]
        },
        {
          "output_type": "stream",
          "name": "stdout",
          "text": [
            "\r 70%|███████   | 7/10 [01:28<00:42, 14.18s/trial, best loss: 0.8131313131313131]"
          ]
        },
        {
          "output_type": "stream",
          "name": "stderr",
          "text": [
            "[Parallel(n_jobs=-1)]: Using backend LokyBackend with 4 concurrent workers.\n",
            "\n",
            "[Parallel(n_jobs=-1)]: Done  20 out of  20 | elapsed:    0.6s finished\n",
            "\n",
            "[Parallel(n_jobs=-1)]: Using backend LokyBackend with 4 concurrent workers.\n",
            "\n",
            "[Parallel(n_jobs=-1)]: Done  20 out of  20 | elapsed:    0.5s finished\n",
            "\n",
            "[Parallel(n_jobs=-1)]: Using backend LokyBackend with 4 concurrent workers.\n",
            "\n",
            "[Parallel(n_jobs=-1)]: Done  20 out of  20 | elapsed:    0.5s finished\n",
            "\n"
          ]
        },
        {
          "output_type": "stream",
          "name": "stdout",
          "text": [
            "\r 80%|████████  | 8/10 [01:33<00:22, 11.30s/trial, best loss: 0.8131313131313131]"
          ]
        },
        {
          "output_type": "stream",
          "name": "stderr",
          "text": [
            "[Parallel(n_jobs=-1)]: Using backend LokyBackend with 4 concurrent workers.\n",
            "\n",
            "[Parallel(n_jobs=-1)]: Done  20 out of  20 | elapsed:    5.2s finished\n",
            "\n",
            "[Parallel(n_jobs=-1)]: Using backend LokyBackend with 4 concurrent workers.\n",
            "\n",
            "[Parallel(n_jobs=-1)]: Done  20 out of  20 | elapsed:    6.4s finished\n",
            "\n",
            "[Parallel(n_jobs=-1)]: Using backend LokyBackend with 4 concurrent workers.\n",
            "\n",
            "[Parallel(n_jobs=-1)]: Done  20 out of  20 | elapsed:    4.1s finished\n",
            "\n"
          ]
        },
        {
          "output_type": "stream",
          "name": "stdout",
          "text": [
            "\r 90%|█████████ | 9/10 [01:52<00:13, 13.75s/trial, best loss: 0.8131313131313131]"
          ]
        },
        {
          "output_type": "stream",
          "name": "stderr",
          "text": [
            "[Parallel(n_jobs=-1)]: Using backend LokyBackend with 4 concurrent workers.\n",
            "\n",
            "[Parallel(n_jobs=-1)]: Done  20 out of  20 | elapsed:    0.6s finished\n",
            "\n",
            "[Parallel(n_jobs=-1)]: Using backend LokyBackend with 4 concurrent workers.\n",
            "\n",
            "[Parallel(n_jobs=-1)]: Done  20 out of  20 | elapsed:    0.6s finished\n",
            "\n",
            "[Parallel(n_jobs=-1)]: Using backend LokyBackend with 4 concurrent workers.\n",
            "\n",
            "[Parallel(n_jobs=-1)]: Done  13 out of  20 | elapsed:    0.6s remaining:    0.3s\n",
            "\n",
            "[Parallel(n_jobs=-1)]: Done  20 out of  20 | elapsed:    0.8s finished\n",
            "\n"
          ]
        },
        {
          "output_type": "stream",
          "name": "stdout",
          "text": [
            "100%|██████████| 10/10 [01:58<00:00, 11.82s/trial, best loss: 0.8131313131313131]\n",
            "Best: {'C': 39.14071527907918}\n"
          ]
        }
      ]
    },
    {
      "cell_type": "code",
      "source": [
        "\n",
        "params = {\n",
        "    'solver' : 'lbfgs',\n",
        "    'C': 39.14071527907918,\n",
        "    'fit_intercept' : True,\n",
        "    'tol' : 0.0001,\n",
        "    'max_iter' : 100,\n",
        "    'warm_start' : True,\n",
        "    'multi_class' : 'ovr',\n",
        "    'class_weight' : 'balanced'\n",
        "}\n",
        "\n",
        "hog_model = LogisticRegression(**params, n_jobs=-1)\n",
        "hog_model.fit(train_hog.iloc[:,0:-1], train_hog['label'])\n",
        "\n",
        "y_pred = hog_model.predict(test_hog.iloc[:,0:-1])\n"
      ],
      "metadata": {
        "id": "7qmI7bmSuT89"
      },
      "execution_count": 16,
      "outputs": []
    },
    {
      "cell_type": "code",
      "source": [
        "accuracy_score(test_hog['label'], y_pred)"
      ],
      "metadata": {
        "colab": {
          "base_uri": "https://localhost:8080/"
        },
        "id": "jzabjApQ2wzH",
        "outputId": "6e39979a-8a9f-4e5f-844a-b48fca633c00"
      },
      "execution_count": 17,
      "outputs": [
        {
          "output_type": "execute_result",
          "data": {
            "text/plain": [
              "0.946524064171123"
            ]
          },
          "metadata": {},
          "execution_count": 17
        }
      ]
    },
    {
      "cell_type": "code",
      "source": [
        "print(classification_report(test_hog['label'], y_pred))"
      ],
      "metadata": {
        "colab": {
          "base_uri": "https://localhost:8080/"
        },
        "id": "2mQoIdfI3jeb",
        "outputId": "808d02e4-250a-4da3-dbb0-0112b14caeb0"
      },
      "execution_count": 18,
      "outputs": [
        {
          "output_type": "stream",
          "name": "stdout",
          "text": [
            "               precision    recall  f1-score   support\n",
            "\n",
            "        apple       1.00      0.78      0.88         9\n",
            "       banana       1.00      0.89      0.94         9\n",
            "  bell pepper       1.00      1.00      1.00         9\n",
            "      cabbage       0.83      1.00      0.91        10\n",
            "  cauliflower       1.00      0.89      0.94         9\n",
            "chilli pepper       1.00      1.00      1.00         7\n",
            "         corn       1.00      0.90      0.95        10\n",
            "       garlic       0.91      1.00      0.95        10\n",
            "       ginger       0.90      0.90      0.90        10\n",
            "       grapes       1.00      1.00      1.00         8\n",
            "         kiwi       0.91      1.00      0.95        10\n",
            "        mango       1.00      0.90      0.95        10\n",
            "       orange       1.00      0.71      0.83         7\n",
            "         pear       0.83      1.00      0.91        10\n",
            "         peas       1.00      1.00      1.00         9\n",
            "    pineapple       1.00      1.00      1.00        10\n",
            "  pomegranate       0.90      0.90      0.90        10\n",
            "      spinach       0.91      1.00      0.95        10\n",
            "       turnip       0.91      1.00      0.95        10\n",
            "   watermelon       1.00      1.00      1.00        10\n",
            "\n",
            "     accuracy                           0.95       187\n",
            "    macro avg       0.96      0.94      0.95       187\n",
            " weighted avg       0.95      0.95      0.95       187\n",
            "\n"
          ]
        }
      ]
    },
    {
      "cell_type": "code",
      "source": [
        "fig, ax = plt.subplots(figsize=(15,10))\n",
        "ConfusionMatrixDisplay.from_predictions(test_hog['label'], y_pred, xticks_rotation=60, ax=ax)"
      ],
      "metadata": {
        "colab": {
          "base_uri": "https://localhost:8080/",
          "height": 948
        },
        "id": "--yO-S63G3v9",
        "outputId": "358c8450-e69b-4f88-fea2-9ac4cfe33118"
      },
      "execution_count": 19,
      "outputs": [
        {
          "output_type": "execute_result",
          "data": {
            "text/plain": [
              "<sklearn.metrics._plot.confusion_matrix.ConfusionMatrixDisplay at 0x7c43b65a07f0>"
            ]
          },
          "metadata": {},
          "execution_count": 19
        },
        {
          "output_type": "display_data",
          "data": {
            "text/plain": [
              "<Figure size 1500x1000 with 2 Axes>"
            ],
            "image/png": "[encoded data removed]"
          },
          "metadata": {}
        }
      ]
    },
    {
      "cell_type": "code",
      "source": [
        "fig, ax = plt.subplots(figsize=(15,10))\n",
        "\n",
        "conf_matrix = confusion_matrix(test_hog['label'], y_pred, labels=hog_model.classes_)\n",
        "ConfusionMatrixDisplay(confusion_matrix=conf_matrix, display_labels=hog_model.classes_).plot()\n"
      ],
      "metadata": {
        "colab": {
          "base_uri": "https://localhost:8080/",
          "height": 1000
        },
        "id": "FvAY50DQCYmQ",
        "outputId": "d90e50ae-c559-41f4-e294-889d5d63c427"
      },
      "execution_count": null,
      "outputs": [
        {
          "output_type": "error",
          "ename": "TypeError",
          "evalue": "ignored",
          "traceback": [
            "\u001b[0;31m---------------------------------------------------------------------------\u001b[0m",
            "\u001b[0;31mTypeError\u001b[0m                                 Traceback (most recent call last)",
            "\u001b[0;32m<ipython-input-50-40f05d340613>\u001b[0m in \u001b[0;36m<cell line: 4>\u001b[0;34m()\u001b[0m\n\u001b[1;32m      2\u001b[0m \u001b[0;34m\u001b[0m\u001b[0m\n\u001b[1;32m      3\u001b[0m \u001b[0mconf_matrix\u001b[0m \u001b[0;34m=\u001b[0m \u001b[0mconfusion_matrix\u001b[0m\u001b[0;34m(\u001b[0m\u001b[0mtest_hog\u001b[0m\u001b[0;34m[\u001b[0m\u001b[0;34m'label'\u001b[0m\u001b[0;34m]\u001b[0m\u001b[0;34m,\u001b[0m \u001b[0my_pred\u001b[0m\u001b[0;34m,\u001b[0m \u001b[0mlabels\u001b[0m\u001b[0;34m=\u001b[0m\u001b[0mhog_model\u001b[0m\u001b[0;34m.\u001b[0m\u001b[0mclasses_\u001b[0m\u001b[0;34m)\u001b[0m\u001b[0;34m\u001b[0m\u001b[0;34m\u001b[0m\u001b[0m\n\u001b[0;32m----> 4\u001b[0;31m \u001b[0mConfusionMatrixDisplay\u001b[0m\u001b[0;34m(\u001b[0m\u001b[0mconfusion_matrix\u001b[0m\u001b[0;34m=\u001b[0m\u001b[0mconf_matrix\u001b[0m\u001b[0;34m,\u001b[0m \u001b[0max_\u001b[0m\u001b[0;34m=\u001b[0m\u001b[0max\u001b[0m\u001b[0;34m,\u001b[0m \u001b[0mdisplay_labels\u001b[0m\u001b[0;34m=\u001b[0m\u001b[0mhog_model\u001b[0m\u001b[0;34m.\u001b[0m\u001b[0mclasses_\u001b[0m\u001b[0;34m)\u001b[0m\u001b[0;34m.\u001b[0m\u001b[0mplot\u001b[0m\u001b[0;34m(\u001b[0m\u001b[0;34m)\u001b[0m\u001b[0;34m\u001b[0m\u001b[0;34m\u001b[0m\u001b[0m\n\u001b[0m",
            "\u001b[0;31mTypeError\u001b[0m: ConfusionMatrixDisplay.__init__() got an unexpected keyword argument 'ax_'"
          ]
        },
        {
          "output_type": "display_data",
          "data": {
            "text/plain": [
              "<Figure size 1500x1000 with 1 Axes>"
            ],
            "image/png": "[encoded data removed]"
          },
          "metadata": {}
        }
      ]
    },
    {
      "cell_type": "code",
      "source": [],
      "metadata": {
        "id": "Q9hdvovkDBdz"
      },
      "execution_count": null,
      "outputs": []
    }
  ],
  "metadata": {
    "colab": {
      "provenance": [],
      "machine_shape": "hm",
      "include_colab_link": true
    },
    "kernelspec": {
      "display_name": "dl",
      "language": "python",
      "name": "dl"
    },
    "language_info": {
      "codemirror_mode": {
        "name": "ipython",
        "version": 3
      },
      "file_extension": ".py",
      "mimetype": "text/x-python",
      "name": "python",
      "nbconvert_exporter": "python",
      "pygments_lexer": "ipython3",
      "version": "3.8.16"
    }
  },
  "nbformat": 4,
  "nbformat_minor": 0
}