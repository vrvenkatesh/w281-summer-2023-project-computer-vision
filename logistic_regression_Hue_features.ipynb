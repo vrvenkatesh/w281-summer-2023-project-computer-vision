{
  "cells": [
    {
      "cell_type": "markdown",
      "metadata": {
        "id": "view-in-github",
        "colab_type": "text"
      },
      "source": [
        "<a href=\"https://colab.research.google.com/github/MichaelTay/w281-summer-2023-project/blob/mcliston_modeling/logistic_regression_Hue_features.ipynb\" target=\"_parent\"><img src=\"https://colab.research.google.com/assets/colab-badge.svg\" alt=\"Open In Colab\"/></a>"
      ]
    },
    {
      "cell_type": "markdown",
      "metadata": {
        "id": "1p8wbonrBoLl"
      },
      "source": [
        "# Fruit and Vegetable Classification\n",
        "## \\# Class activation heatmap for image classification\n",
        "Taken from: https://www.kaggle.com/code/databeru/fruit-and-vegetable-classification\n",
        "\n",
        "## \\# Grad-CAM class activation visualization\n",
        "\n",
        "Having 3861 images of 36 different fruits/vegetables\n",
        "\n",
        "![fruit vegetable](https://i.imgur.com/KUAcIQD.jpeg)\n",
        "\n",
        "[![Open In Colab](https://colab.research.google.com/assets/colab-badge.svg)](https://colab.research.google.com/github/MichaelTay/w281-summer-2023-project/blob/main/feature_detection.ipynb)"
      ]
    },
    {
      "cell_type": "markdown",
      "metadata": {
        "id": "KaL5HEJPBoLn"
      },
      "source": [
        "<h1>Table of contents</h1>\n",
        "\n",
        "\n",
        "<ul>\n",
        "<li><a href=\"#1\"><strong>1. Loading and preprocessing</strong></a>\n",
        "</ul>\n",
        "    \n",
        "<ul>\n",
        "<li><a href=\"#2\"><strong>2. Load the Images with a generator and Data Augmentation</strong></a>\n",
        "</ul>\n",
        "\n",
        "<ul>\n",
        "<li><a href=\"#3\"><strong>3. Train the model</strong></a>\n",
        "</ul>\n",
        "\n",
        "<ul>\n",
        "<li><a href=\"#4\"><strong>4. Visualize the result</strong></a>\n",
        "</ul>\n",
        "\n",
        "<ul>\n",
        "<li><a href=\"#5\"><strong>5. Class activation heatmap for image classification</strong></a>\n",
        "</ul>\n",
        "\n",
        "# Context\n",
        "\n",
        "Image classification of fruits and vegetables has a wide range of applications in nutrition, cooking, farming, and produce wholesale. Being able to identify the type (fruit or vegetable) and class (which particular fruit or vegetable) is the foundational layer upon which one can build useful techniques related to produce such as quality evaluation, insect infestation, ripeness evaluation, sorting, recipe generation, and a myriad of others. Creating a well-performing baseline fruit and vegetable classifier opens up a world of possibilities for computer vision applications within the produce industry.\n",
        "\n",
        "# Content\n",
        "This dataset contains three folders:\n",
        "\n",
        "- train (100 images each)\n",
        "- test (10 images each)\n",
        "- validation (10 images each)\n",
        "each of the above folders contains subfolders for different fruits and vegetables wherein the images for respective food items are present# Context\n",
        "\n",
        "This dataset contains images of the following food items:\n",
        "\n",
        "- **fruits**: banana, apple, pear, grapes, orange, kiwi, watermelon, pomegranate, pineapple, mango\n",
        "- **vegetables**: cucumber, carrot, capsicum, onion, potato, lemon, tomato, raddish, beetroot, cabbage, lettuce, spinach, soy bean, cauliflower, bell pepper, chilli pepper, turnip, corn, sweetcorn, sweet potato, paprika, jalepeño, ginger, garlic, peas, eggplant\n",
        "\n",
        "To balance the class distribution, we chose a subset of 10 of the 20 total vegetable classes. The following classes were analyzed as part of this project:\n",
        "\n",
        "Fruits = ['banana', 'apple', 'pear', 'grapes', 'orange', 'kiwi', 'watermelon', 'pomegranate', 'pineapple', 'mango']\n",
        "Vegetables = ['bell pepper', 'cauliflower', 'chilli pepper', 'peas', 'corn', 'spinach', 'turnip', 'garlic', 'ginger', 'cabbage']\n",
        "\n"
      ]
    },
    {
      "cell_type": "code",
      "execution_count": 1,
      "metadata": {
        "ExecuteTime": {
          "end_time": "2023-07-25T15:48:10.352967Z",
          "start_time": "2023-07-25T15:48:10.352812Z"
        },
        "id": "3qSIiM8kKE8d",
        "tags": []
      },
      "outputs": [],
      "source": [
        "#importing required libraries\n",
        "from skimage.io import imread\n",
        "from skimage.transform import resize\n",
        "from skimage.feature import hog\n",
        "from skimage import exposure\n",
        "import matplotlib.pyplot as plt\n",
        "# Load the Drive helper and mount\n",
        "#from google.colab import drive\n",
        "import xarray as x"
      ]
    },
    {
      "cell_type": "markdown",
      "metadata": {
        "id": "XFhtaM-2BoLo"
      },
      "source": [
        "# 1. Loading and preprocessing<a class=\"anchor\" id=\"1\"></a><a class=\"anchor\" id=\"1\"></a>"
      ]
    },
    {
      "cell_type": "code",
      "execution_count": 2,
      "metadata": {
        "ExecuteTime": {
          "end_time": "2023-07-25T15:48:10.605525Z",
          "start_time": "2023-07-25T15:48:10.605339Z"
        },
        "colab": {
          "base_uri": "https://localhost:8080/"
        },
        "id": "b6tCm8LNBoLq",
        "outputId": "3275b3c5-723a-4cf2-f210-fed76f5a2dc4",
        "tags": []
      },
      "outputs": [
        {
          "output_type": "stream",
          "name": "stdout",
          "text": [
            "Mounted at /content/drive\n"
          ]
        }
      ],
      "source": [
        "import os\n",
        "\n",
        "# Load the Drive helper and mount\n",
        "from google.colab import drive\n",
        "\n",
        "# This will prompt for authorization.\n",
        "mountdir = '/content/drive'\n",
        "drive.mount(mountdir, force_remount=True)\n",
        "\n",
        "localdir = mountdir + '/MyDrive'\n",
        "# Replace your folder here\n",
        "w281_directory = '/Berkeley/w281/Fruit-and-Vegetable-Classification/'\n",
        "inputdir = localdir + w281_directory\n",
        "# Uncomment below if using local folder\n",
        "# inputdir = \"/Users/mcliston/Library/CloudStorage/GoogleDrive-michael.c.liston@gmail.com/My Drive/Berkeley/w281/Fruit-and-Vegetable-Classification/\""
      ]
    },
    {
      "cell_type": "code",
      "execution_count": 3,
      "metadata": {
        "ExecuteTime": {
          "end_time": "2023-07-25T15:48:10.637197Z",
          "start_time": "2023-07-25T15:48:10.637044Z"
        },
        "id": "CX0NY9FsI5tm",
        "tags": []
      },
      "outputs": [],
      "source": [
        "import numpy as np\n",
        "import pandas as pd\n",
        "from pathlib import Path\n",
        "import os.path\n",
        "import matplotlib.pyplot as plt\n",
        "import cv2\n",
        "#import tensorflow as tf\n",
        "\n",
        "# Create a list with the filepaths for training and testing\n",
        "train_dir = Path(inputdir, './input/train')\n",
        "train_filepaths = list(train_dir.glob(r'**/*.jpg'))\n",
        "\n",
        "test_dir = Path(inputdir, './input/test')\n",
        "test_filepaths = list(test_dir.glob(r'**/*.jpg'))\n",
        "\n",
        "val_dir = Path(inputdir, './input/validation')\n",
        "val_filepaths = list(test_dir.glob(r'**/*.jpg'))\n",
        "\n",
        "def proc_img(filepath):\n",
        "    \"\"\" Create a DataFrame with the filepath and the labels of the pictures\n",
        "    \"\"\"\n",
        "\n",
        "    labels = [str(filepath[i]).split(\"/\")[-2] \\\n",
        "              for i in range(len(filepath))]\n",
        "\n",
        "    filepath = pd.Series(filepath, name='Filepath').astype(str)\n",
        "    labels = pd.Series(labels, name='Label')\n",
        "\n",
        "    # Concatenate filepaths and labels\n",
        "    df = pd.concat([filepath, labels], axis=1)\n",
        "\n",
        "    # Shuffle the DataFrame and reset index\n",
        "    df = df.sample(frac=1).reset_index(drop = True)\n",
        "\n",
        "    return df\n",
        "\n",
        "train_df = proc_img(train_filepaths)\n",
        "test_df = proc_img(test_filepaths)\n",
        "val_df = proc_img(val_filepaths)"
      ]
    },
    {
      "cell_type": "markdown",
      "source": [
        "### Loading Training/Validation/Test sets"
      ],
      "metadata": {
        "id": "iPbe-w1xc5aN"
      }
    },
    {
      "cell_type": "code",
      "source": [
        "modeling_datasets = inputdir + 'modeling/'"
      ],
      "metadata": {
        "id": "x2FVkfp4dKAZ"
      },
      "execution_count": 4,
      "outputs": []
    },
    {
      "cell_type": "code",
      "source": [
        "!ls drive/MyDrive/Berkeley/w281/Fruit-and-Vegetable-Classification/modeling/train"
      ],
      "metadata": {
        "colab": {
          "base_uri": "https://localhost:8080/"
        },
        "id": "pt_kw2jydmIi",
        "outputId": "54cd1209-1ca8-453d-f963-26d0d21816ff"
      },
      "execution_count": null,
      "outputs": [
        {
          "output_type": "stream",
          "name": "stdout",
          "text": [
            "train_hog_features.csv\t      train_saturation_features.csv\n",
            "train_hue_features.csv\t      train_sobel_x_features.csv\n",
            "train_laplacian_features.csv  train_sobel_y_features.csv\n",
            "train_luminance_features.csv\n"
          ]
        }
      ]
    },
    {
      "cell_type": "markdown",
      "source": [],
      "metadata": {
        "id": "ypgFn-nhJa-Z"
      }
    },
    {
      "cell_type": "code",
      "source": [
        "train_hue = pd.read_csv(modeling_datasets+'train/train_hue_features.csv')\n",
        "validation_hue = pd.read_csv(modeling_datasets+'validation/validation_hue_features.csv')\n",
        "test_hue = pd.read_csv(modeling_datasets+'test/test_hue_features.csv')\n",
        "\n",
        "train_hue = train_hue.drop('Unnamed: 0', axis=1)\n",
        "validation_hue = validation_hue.drop('Unnamed: 0', axis=1)\n",
        "test_hue = test_hue.drop('Unnamed: 0', axis=1)\n",
        "\n",
        "# full_train = pd.concat([train_hue, validation_hue], axis=0)\n",
        "# full_train = full_train.reset_index().drop(['Unnamed: 0', 'index'], axis=1)"
      ],
      "metadata": {
        "id": "7WevwGlmc3fx"
      },
      "execution_count": 18,
      "outputs": []
    },
    {
      "cell_type": "markdown",
      "source": [
        "##### Mapping labels to ints"
      ],
      "metadata": {
        "id": "4J5wN39X5eBf"
      }
    },
    {
      "cell_type": "code",
      "source": [
        "unique_training_labels = set([i for i in train_hue['label'].tolist()])\n",
        "unique_val_labels = set([i for i in validation_hue['label'].tolist()])\n",
        "unique_test_labels = set([i for i in test_hue['label'].tolist()])\n",
        "\n",
        "all_unique_labels = set(list(unique_training_labels) + list(unique_val_labels) + list(unique_test_labels))\n",
        "all_unique_labels = sorted(list(all_unique_labels))\n",
        "label_numeric_mapping = {k:v for v,k in enumerate(all_unique_labels)}"
      ],
      "metadata": {
        "id": "G71jIw7b5dcS"
      },
      "execution_count": 19,
      "outputs": []
    },
    {
      "cell_type": "code",
      "source": [
        "# full_train['label'] = full_train['label'].apply(lambda x: label_numeric_mapping[x])\n",
        "# test_hog['label'] = test_hog['label'].apply(lambda x: label_numeric_mapping[x])"
      ],
      "metadata": {
        "id": "HvoGWX0r6i5u"
      },
      "execution_count": null,
      "outputs": []
    },
    {
      "cell_type": "markdown",
      "metadata": {
        "id": "ALKhiDGWM9pc"
      },
      "source": [
        "## Logistic Regression"
      ]
    },
    {
      "cell_type": "code",
      "source": [
        "from sklearn.linear_model import LogisticRegression\n",
        "from sklearn.model_selection import train_test_split, cross_val_score\n",
        "from sklearn.metrics import (roc_curve,\n",
        "                             auc, RocCurveDisplay,\n",
        "                             classification_report,\n",
        "                             confusion_matrix,accuracy_score)\n",
        "from sklearn.model_selection import StratifiedKFold\n",
        "from sklearn.metrics import accuracy_score, f1_score, make_scorer, ConfusionMatrixDisplay\n",
        "from sklearn.model_selection import learning_curve\n",
        "from sklearn.utils import shuffle\n",
        "\n",
        "from hyperopt import tpe, hp, fmin, STATUS_OK,Trials\n",
        "from hyperopt.pyll.base import scope\n",
        "from tqdm import tqdm\n",
        "\n",
        "def warn(*args, **kwargs):\n",
        "    pass\n",
        "import warnings\n",
        "warnings.warn = warn\n",
        "\n",
        "\n",
        "## Learning Curve\n",
        "def plot_learning_curve(estimator, title, X, y, ylim=None, cv=None, n_jobs=None, train_sizes=np.linspace(0.1, 1.0, 5)):\n",
        "    \"\"\"\n",
        "    Generate a simple plot of the learning curve.\n",
        "\n",
        "    Parameters:\n",
        "        estimator: The machine learning model or pipeline.\n",
        "        title: The title of the plot.\n",
        "        X: The feature matrix.\n",
        "        y: The target vector.\n",
        "        ylim: Tuple with (min, max) values to define the y-axis limits.\n",
        "        cv: Cross-validation strategy. If None, 5-fold cross-validation is used.\n",
        "        n_jobs: Number of jobs to run in parallel (-1 uses all available processors).\n",
        "        train_sizes: Array of training set sizes to use for the learning curve.\n",
        "    \"\"\"\n",
        "    plt.figure()\n",
        "    plt.title(title)\n",
        "    if ylim is not None:\n",
        "        plt.ylim(*ylim)\n",
        "    plt.xlabel(\"Training examples\")\n",
        "    plt.ylabel(\"Score\")\n",
        "    train_sizes, train_scores, test_scores = learning_curve(\n",
        "        estimator, X, y, cv=cv, n_jobs=n_jobs, train_sizes=train_sizes\n",
        "    )\n",
        "    train_scores_mean = np.mean(train_scores, axis=1)\n",
        "    train_scores_std = np.std(train_scores, axis=1)\n",
        "    test_scores_mean = np.mean(test_scores, axis=1)\n",
        "    test_scores_std = np.std(test_scores, axis=1)\n",
        "    plt.grid()\n",
        "\n",
        "    plt.fill_between(\n",
        "        train_sizes,\n",
        "        train_scores_mean - train_scores_std,\n",
        "        train_scores_mean + train_scores_std,\n",
        "        alpha=0.1,\n",
        "        color=\"r\",\n",
        "    )\n",
        "    plt.fill_between(\n",
        "        train_sizes,\n",
        "        test_scores_mean - test_scores_std,\n",
        "        test_scores_mean + test_scores_std,\n",
        "        alpha=0.1,\n",
        "        color=\"g\",\n",
        "    )\n",
        "    plt.plot(\n",
        "        train_sizes,\n",
        "        train_scores_mean,\n",
        "        \"o-\",\n",
        "        color=\"r\",\n",
        "        label=\"Training score\",\n",
        "    )\n",
        "    plt.plot(\n",
        "        train_sizes,\n",
        "        test_scores_mean,\n",
        "        \"o-\",\n",
        "        color=\"g\",\n",
        "        label=\"Cross-validation score\",\n",
        "    )\n",
        "    plt.legend(loc=\"best\")\n",
        "    return plt\n"
      ],
      "metadata": {
        "id": "tdIoeVCaXO_t"
      },
      "execution_count": 34,
      "outputs": []
    },
    {
      "cell_type": "markdown",
      "source": [
        "##### Bayesian Parameter Search"
      ],
      "metadata": {
        "id": "sRaWrKIzjd90"
      }
    },
    {
      "cell_type": "code",
      "source": [
        "# space = {\n",
        "#             'fit_intercept' : hp.choice('fit_intercept', [True, False]),\n",
        "#             'tol' : hp.uniform('tol', 0.00001, 0.00002),\n",
        "#             'C' : hp.uniform('C', 0.5, 1.5),\n",
        "#             'solver' : hp.choice('solver', ['newton-cg', 'lbfgs', 'liblinear']),\n",
        "#             'max_iter' : hp.choice('max_iter', range(100,300)),\n",
        "#             # 'scale': hp.choice('scale', [0, 1]),\n",
        "#             'warm_start' : hp.choice('warm_start', [True, False]),\n",
        "#             'multi_class' : 'auto',\n",
        "#             'class_weight' : 'balanced'\n",
        "#                 }\n",
        "\n",
        "space = {\n",
        "    'C' : hp.loguniform('C', low=-4*np.log(10), high=4*np.log(10)),\n",
        "    'solver' : hp.choice('solver', ['lbfgs','sag', 'saga'])\n",
        "}"
      ],
      "metadata": {
        "id": "d4wKrP64f0Bj"
      },
      "execution_count": 31,
      "outputs": []
    },
    {
      "cell_type": "code",
      "source": [
        "def optimize_lr(params):\n",
        "\n",
        "    skf = StratifiedKFold(n_splits=3)\n",
        "    clf = LogisticRegression(**params,\n",
        "                             fit_intercept=True,\n",
        "                             tol=0.0001,\n",
        "                             max_iter=100,\n",
        "                             warm_start=True,\n",
        "                             multi_class='ovr',\n",
        "                             class_weight='balanced',\n",
        "                             n_jobs=-1, verbose=2)\n",
        "    f1_weighted = cross_val_score(clf, train_hue.iloc[:, 0:-1], train_hue['label'],\n",
        "                         scoring=make_scorer(accuracy_score),\n",
        "                        cv=skf).mean()\n",
        "    best_score = np.mean(f1_weighted)\n",
        "    loss = 1 - best_score\n",
        "    return {\"loss\":loss, \"status\":STATUS_OK}"
      ],
      "metadata": {
        "id": "6-fm-ouTjx-x"
      },
      "execution_count": 32,
      "outputs": []
    },
    {
      "cell_type": "code",
      "source": [
        "RANDOM_SEED = 4321\n",
        "trials = Trials()\n",
        "\n",
        "best = fmin(\n",
        "    fn=optimize_lr,\n",
        "    space=space,\n",
        "    algo=tpe.suggest,\n",
        "    max_evals=10,\n",
        "    trials=trials,\n",
        "    rstate=np.random.default_rng(RANDOM_SEED)\n",
        ")\n",
        "\n",
        "print(\"Best: {}\".format(best))"
      ],
      "metadata": {
        "colab": {
          "base_uri": "https://localhost:8080/"
        },
        "id": "J-RT-hvXs_Sl",
        "outputId": "16967fab-970f-42bc-d50e-75f6c639ba3f"
      },
      "execution_count": 33,
      "outputs": [
        {
          "output_type": "stream",
          "name": "stdout",
          "text": [
            "\r  0%|          | 0/10 [00:00<?, ?trial/s, best loss=?]"
          ]
        },
        {
          "output_type": "stream",
          "name": "stderr",
          "text": [
            "[Parallel(n_jobs=-1)]: Using backend ThreadingBackend with 4 concurrent workers.\n",
            "\n"
          ]
        },
        {
          "output_type": "stream",
          "name": "stdout",
          "text": [
            "max_iter reached after 9 seconds\n",
            "max_iter reached after 9 seconds\n",
            "max_iter reached after 9 seconds\n",
            "max_iter reached after 10 seconds\n",
            "max_iter reached after 8 seconds\n",
            "max_iter reached after 9 seconds\n",
            "max_iter reached after 9 seconds\n",
            "max_iter reached after 8 seconds\n",
            "max_iter reached after 10 seconds\n",
            "max_iter reached after 9 seconds\n",
            "max_iter reached after 9 seconds\n",
            "max_iter reached after 9 seconds\n",
            "max_iter reached after 8 seconds\n",
            "max_iter reached after 9 seconds\n",
            "max_iter reached after 9 seconds\n",
            "max_iter reached after 9 seconds\n",
            "max_iter reached after 9 seconds\n",
            "max_iter reached after 10 seconds\n",
            "max_iter reached after 8 seconds\n",
            "max_iter reached after 9 seconds\n",
            "  0%|          | 0/10 [00:45<?, ?trial/s, best loss=?]"
          ]
        },
        {
          "output_type": "stream",
          "name": "stderr",
          "text": [
            "[Parallel(n_jobs=-1)]: Done  20 out of  20 | elapsed:   45.6s finished\n",
            "\n",
            "[Parallel(n_jobs=-1)]: Using backend ThreadingBackend with 4 concurrent workers.\n",
            "\n"
          ]
        },
        {
          "output_type": "stream",
          "name": "stdout",
          "text": [
            "max_iter reached after 8 seconds\n",
            "max_iter reached after 9 seconds\n",
            "max_iter reached after 9 seconds\n",
            "max_iter reached after 9 seconds\n",
            "max_iter reached after 9 seconds\n",
            "max_iter reached after 8 seconds\n",
            "max_iter reached after 9 seconds\n",
            "max_iter reached after 9 seconds\n",
            "max_iter reached after 8 seconds\n",
            "max_iter reached after 9 seconds\n",
            "max_iter reached after 9 seconds\n",
            "max_iter reached after 9 seconds\n",
            "max_iter reached after 10 seconds\n",
            "max_iter reached after 9 seconds\n",
            "max_iter reached after 9 seconds\n",
            "max_iter reached after 10 seconds\n",
            "max_iter reached after 9 seconds\n",
            "max_iter reached after 8 seconds\n",
            "max_iter reached after 9 seconds\n",
            "max_iter reached after 8 seconds\n",
            "  0%|          | 0/10 [01:31<?, ?trial/s, best loss=?]"
          ]
        },
        {
          "output_type": "stream",
          "name": "stderr",
          "text": [
            "[Parallel(n_jobs=-1)]: Done  20 out of  20 | elapsed:   45.3s finished\n",
            "\n",
            "[Parallel(n_jobs=-1)]: Using backend ThreadingBackend with 4 concurrent workers.\n",
            "\n"
          ]
        },
        {
          "output_type": "stream",
          "name": "stdout",
          "text": [
            "max_iter reached after 9 seconds\n",
            "max_iter reached after 9 seconds\n",
            "max_iter reached after 10 seconds\n",
            "max_iter reached after 10 seconds\n",
            "max_iter reached after 9 seconds\n",
            "max_iter reached after 9 seconds\n",
            "max_iter reached after 8 seconds\n",
            "max_iter reached after 8 seconds\n",
            "max_iter reached after 9 seconds\n",
            "max_iter reached after 10 seconds\n",
            "max_iter reached after 10 seconds\n",
            "max_iter reached after 10 seconds\n",
            "max_iter reached after 9 seconds\n",
            "max_iter reached after 9 seconds\n",
            "max_iter reached after 10 seconds\n",
            "max_iter reached after 10 seconds\n",
            "max_iter reached after 8 seconds\n",
            "max_iter reached after 8 seconds\n",
            "max_iter reached after 9 seconds\n",
            "max_iter reached after 8 seconds\n",
            " 10%|█         | 1/10 [02:17<20:35, 137.30s/trial, best loss: 0.8556998556998557]"
          ]
        },
        {
          "output_type": "stream",
          "name": "stderr",
          "text": [
            "[Parallel(n_jobs=-1)]: Done  20 out of  20 | elapsed:   46.0s finished\n",
            "\n",
            "[Parallel(n_jobs=-1)]: Using backend ThreadingBackend with 4 concurrent workers.\n",
            "\n"
          ]
        },
        {
          "output_type": "stream",
          "name": "stdout",
          "text": [
            "max_iter reached after 9 seconds\n",
            "max_iter reached after 9 seconds\n",
            "max_iter reached after 9 seconds\n",
            "max_iter reached after 10 seconds\n",
            "max_iter reached after 8 seconds\n",
            "max_iter reached after 9 seconds\n",
            "max_iter reached after 8 seconds\n",
            "max_iter reached after 9 seconds\n",
            "max_iter reached after 8 seconds\n",
            "max_iter reached after 9 seconds\n",
            "max_iter reached after 9 seconds\n",
            "max_iter reached after 9 seconds\n",
            "max_iter reached after 8 seconds\n",
            "max_iter reached after 10 seconds\n",
            "max_iter reached after 10 seconds\n",
            "max_iter reached after 9 seconds\n",
            "max_iter reached after 8 seconds\n",
            "max_iter reached after 8 seconds\n",
            "max_iter reached after 8 seconds\n",
            "max_iter reached after 8 seconds\n",
            " 10%|█         | 1/10 [03:01<20:35, 137.30s/trial, best loss: 0.8556998556998557]"
          ]
        },
        {
          "output_type": "stream",
          "name": "stderr",
          "text": [
            "[Parallel(n_jobs=-1)]: Done  20 out of  20 | elapsed:   43.8s finished\n",
            "\n",
            "[Parallel(n_jobs=-1)]: Using backend ThreadingBackend with 4 concurrent workers.\n",
            "\n"
          ]
        },
        {
          "output_type": "stream",
          "name": "stdout",
          "text": [
            "max_iter reached after 9 seconds\n",
            "max_iter reached after 9 seconds\n",
            "max_iter reached after 9 seconds\n",
            "max_iter reached after 10 seconds\n",
            "max_iter reached after 9 seconds\n",
            "max_iter reached after 10 seconds\n",
            "max_iter reached after 10 seconds\n",
            "max_iter reached after 9 seconds\n",
            "max_iter reached after 11 seconds\n",
            "max_iter reached after 13 seconds\n",
            "max_iter reached after 12 seconds\n",
            "max_iter reached after 13 seconds\n",
            "max_iter reached after 10 seconds\n",
            "max_iter reached after 10 seconds\n",
            "max_iter reached after 9 seconds\n",
            "max_iter reached after 10 seconds\n",
            "max_iter reached after 9 seconds\n",
            "max_iter reached after 9 seconds\n",
            "max_iter reached after 9 seconds\n",
            "max_iter reached after 9 seconds\n",
            " 10%|█         | 1/10 [03:51<20:35, 137.30s/trial, best loss: 0.8556998556998557]"
          ]
        },
        {
          "output_type": "stream",
          "name": "stderr",
          "text": [
            "[Parallel(n_jobs=-1)]: Done  20 out of  20 | elapsed:   50.1s finished\n",
            "\n",
            "[Parallel(n_jobs=-1)]: Using backend ThreadingBackend with 4 concurrent workers.\n",
            "\n"
          ]
        },
        {
          "output_type": "stream",
          "name": "stdout",
          "text": [
            "max_iter reached after 8 seconds\n",
            "max_iter reached after 9 seconds\n",
            "max_iter reached after 9 seconds\n",
            "max_iter reached after 9 seconds\n",
            "max_iter reached after 9 seconds\n",
            "max_iter reached after 9 seconds\n",
            "max_iter reached after 10 seconds\n",
            "max_iter reached after 9 seconds\n",
            "max_iter reached after 8 seconds\n",
            "max_iter reached after 8 seconds\n",
            "max_iter reached after 8 seconds\n",
            "max_iter reached after 8 seconds\n",
            "max_iter reached after 9 seconds\n",
            "max_iter reached after 9 seconds\n",
            "max_iter reached after 9 seconds\n",
            "max_iter reached after 10 seconds\n",
            "max_iter reached after 8 seconds\n",
            "max_iter reached after 8 seconds\n",
            "max_iter reached after 9 seconds\n",
            "max_iter reached after 8 seconds\n",
            " 20%|██        | 2/10 [04:35<18:21, 137.68s/trial, best loss: 0.8556998556998557]"
          ]
        },
        {
          "output_type": "stream",
          "name": "stderr",
          "text": [
            "[Parallel(n_jobs=-1)]: Done  20 out of  20 | elapsed:   43.5s finished\n",
            "\n",
            "[Parallel(n_jobs=-1)]: Using backend ThreadingBackend with 4 concurrent workers.\n",
            "\n"
          ]
        },
        {
          "output_type": "stream",
          "name": "stdout",
          "text": [
            "max_iter reached after 9 seconds\n",
            "max_iter reached after 9 seconds\n",
            "max_iter reached after 9 seconds\n",
            "max_iter reached after 9 seconds\n",
            "max_iter reached after 10 seconds\n",
            "max_iter reached after 10 seconds\n",
            "max_iter reached after 11 seconds\n",
            "max_iter reached after 11 seconds\n",
            "max_iter reached after 8 seconds\n",
            "max_iter reached after 8 seconds\n",
            "max_iter reached after 8 seconds\n",
            "max_iter reached after 9 seconds\n",
            "max_iter reached after 9 seconds\n",
            "max_iter reached after 9 seconds\n",
            "max_iter reached after 10 seconds\n",
            "max_iter reached after 9 seconds\n",
            "max_iter reached after 9 seconds\n",
            "max_iter reached after 9 seconds\n",
            "max_iter reached after 9 seconds\n",
            "max_iter reached after 8 seconds\n",
            " 20%|██        | 2/10 [05:21<18:21, 137.68s/trial, best loss: 0.8556998556998557]"
          ]
        },
        {
          "output_type": "stream",
          "name": "stderr",
          "text": [
            "[Parallel(n_jobs=-1)]: Done  20 out of  20 | elapsed:   45.9s finished\n",
            "\n",
            "[Parallel(n_jobs=-1)]: Using backend ThreadingBackend with 4 concurrent workers.\n",
            "\n"
          ]
        },
        {
          "output_type": "stream",
          "name": "stdout",
          "text": [
            "max_iter reached after 8 seconds\n",
            "max_iter reached after 8 seconds\n",
            "max_iter reached after 8 seconds\n",
            "max_iter reached after 8 seconds\n",
            "max_iter reached after 9 seconds\n",
            "max_iter reached after 10 seconds\n",
            "max_iter reached after 10 seconds\n",
            "max_iter reached after 10 seconds\n",
            "max_iter reached after 8 seconds\n",
            "max_iter reached after 8 seconds\n",
            "max_iter reached after 8 seconds\n",
            "max_iter reached after 8 seconds\n",
            "max_iter reached after 9 seconds\n",
            "max_iter reached after 10 seconds\n",
            "max_iter reached after 9 seconds\n",
            "max_iter reached after 9 seconds\n",
            "max_iter reached after 8 seconds\n",
            "max_iter reached after 8 seconds\n",
            "max_iter reached after 8 seconds\n",
            "max_iter reached after 9 seconds\n",
            " 20%|██        | 2/10 [06:04<18:21, 137.68s/trial, best loss: 0.8556998556998557]"
          ]
        },
        {
          "output_type": "stream",
          "name": "stderr",
          "text": [
            "[Parallel(n_jobs=-1)]: Done  20 out of  20 | elapsed:   43.3s finished\n",
            "\n",
            "[Parallel(n_jobs=-1)]: Using backend ThreadingBackend with 4 concurrent workers.\n",
            "\n"
          ]
        },
        {
          "output_type": "stream",
          "name": "stdout",
          "text": [
            "max_iter reached after 8 seconds\n",
            "max_iter reached after 8 seconds\n",
            "max_iter reached after 8 seconds\n",
            "max_iter reached after 8 seconds\n",
            "max_iter reached after 9 seconds\n",
            "max_iter reached after 9 seconds\n",
            "max_iter reached after 10 seconds\n",
            "max_iter reached after 10 seconds\n",
            "max_iter reached after 8 seconds\n",
            "max_iter reached after 8 seconds\n",
            "max_iter reached after 9 seconds\n",
            "max_iter reached after 8 seconds\n",
            "max_iter reached after 9 seconds\n",
            "max_iter reached after 10 seconds\n",
            "max_iter reached after 9 seconds\n",
            "max_iter reached after 9 seconds\n",
            "max_iter reached after 8 seconds\n",
            "max_iter reached after 8 seconds\n",
            "max_iter reached after 8 seconds\n",
            "max_iter reached after 8 seconds\n",
            " 30%|███       | 3/10 [06:48<15:49, 135.60s/trial, best loss: 0.8556998556998557]"
          ]
        },
        {
          "output_type": "stream",
          "name": "stderr",
          "text": [
            "[Parallel(n_jobs=-1)]: Done  20 out of  20 | elapsed:   43.3s finished\n",
            "\n",
            "[Parallel(n_jobs=-1)]: Using backend ThreadingBackend with 4 concurrent workers.\n",
            "\n"
          ]
        },
        {
          "output_type": "stream",
          "name": "stdout",
          "text": [
            "max_iter reached after 9 seconds\n",
            "max_iter reached after 9 seconds\n",
            "max_iter reached after 10 seconds\n",
            "max_iter reached after 10 seconds\n",
            "max_iter reached after 9 seconds\n",
            "max_iter reached after 9 seconds\n",
            "max_iter reached after 10 seconds\n",
            "max_iter reached after 9 seconds\n",
            "max_iter reached after 9 seconds\n",
            "max_iter reached after 8 seconds\n",
            "max_iter reached after 8 seconds\n",
            "max_iter reached after 9 seconds\n",
            "max_iter reached after 9 seconds\n",
            "max_iter reached after 9 seconds\n",
            "max_iter reached after 10 seconds\n",
            "max_iter reached after 10 seconds\n",
            "max_iter reached after 9 seconds\n",
            "max_iter reached after 8 seconds\n",
            "max_iter reached after 8 seconds\n",
            "max_iter reached after 8 seconds\n",
            " 30%|███       | 3/10 [07:33<15:49, 135.60s/trial, best loss: 0.8556998556998557]"
          ]
        },
        {
          "output_type": "stream",
          "name": "stderr",
          "text": [
            "[Parallel(n_jobs=-1)]: Done  20 out of  20 | elapsed:   45.3s finished\n",
            "\n",
            "[Parallel(n_jobs=-1)]: Using backend ThreadingBackend with 4 concurrent workers.\n",
            "\n"
          ]
        },
        {
          "output_type": "stream",
          "name": "stdout",
          "text": [
            "max_iter reached after 8 seconds\n",
            "max_iter reached after 9 seconds\n",
            "max_iter reached after 9 seconds\n",
            "max_iter reached after 9 seconds\n",
            "max_iter reached after 9 seconds\n",
            "max_iter reached after 9 seconds\n",
            "max_iter reached after 10 seconds\n",
            "max_iter reached after 9 seconds\n",
            "max_iter reached after 8 seconds\n",
            "max_iter reached after 8 seconds\n",
            "max_iter reached after 8 seconds\n",
            "max_iter reached after 9 seconds\n",
            "max_iter reached after 10 seconds\n",
            "max_iter reached after 10 seconds\n",
            "max_iter reached after 10 seconds\n",
            "max_iter reached after 9 seconds\n",
            "max_iter reached after 8 seconds\n",
            "max_iter reached after 9 seconds\n",
            "max_iter reached after 9 seconds\n",
            "max_iter reached after 9 seconds\n",
            " 30%|███       | 3/10 [08:19<15:49, 135.60s/trial, best loss: 0.8556998556998557]"
          ]
        },
        {
          "output_type": "stream",
          "name": "stderr",
          "text": [
            "[Parallel(n_jobs=-1)]: Done  20 out of  20 | elapsed:   45.2s finished\n",
            "\n",
            "[Parallel(n_jobs=-1)]: Using backend ThreadingBackend with 4 concurrent workers.\n",
            "\n"
          ]
        },
        {
          "output_type": "stream",
          "name": "stdout",
          "text": [
            "max_iter reached after 9 seconds\n",
            "max_iter reached after 9 seconds\n",
            "max_iter reached after 9 seconds\n",
            "max_iter reached after 9 seconds\n",
            "max_iter reached after 9 seconds\n",
            "max_iter reached after 9 seconds\n",
            "max_iter reached after 9 seconds\n",
            "max_iter reached after 10 seconds\n",
            "max_iter reached after 8 seconds\n",
            "max_iter reached after 9 seconds\n",
            "max_iter reached after 8 seconds\n",
            "max_iter reached after 8 seconds\n",
            "max_iter reached after 9 seconds\n",
            "max_iter reached after 9 seconds\n",
            "max_iter reached after 10 seconds\n",
            "max_iter reached after 10 seconds\n",
            "max_iter reached after 9 seconds\n",
            "max_iter reached after 9 seconds\n",
            "max_iter reached after 8 seconds\n",
            "max_iter reached after 9 seconds\n",
            " 40%|████      | 4/10 [09:05<13:36, 136.01s/trial, best loss: 0.8556998556998557]"
          ]
        },
        {
          "output_type": "stream",
          "name": "stderr",
          "text": [
            "[Parallel(n_jobs=-1)]: Done  20 out of  20 | elapsed:   45.6s finished\n",
            "\n",
            "[Parallel(n_jobs=-1)]: Using backend ThreadingBackend with 4 concurrent workers.\n",
            "\n"
          ]
        },
        {
          "output_type": "stream",
          "name": "stdout",
          "text": [
            "max_iter reached after 8 seconds\n",
            "max_iter reached after 8 seconds\n",
            "max_iter reached after 8 seconds\n",
            "max_iter reached after 8 seconds\n",
            "max_iter reached after 9 seconds\n",
            "max_iter reached after 9 seconds\n",
            "max_iter reached after 9 seconds\n",
            "max_iter reached after 9 seconds\n",
            "max_iter reached after 8 seconds\n",
            "max_iter reached after 8 seconds\n",
            "max_iter reached after 8 seconds\n",
            "max_iter reached after 8 seconds\n",
            "max_iter reached after 9 seconds\n",
            "max_iter reached after 9 seconds\n",
            "max_iter reached after 10 seconds\n",
            "max_iter reached after 10 seconds\n",
            "max_iter reached after 8 seconds\n",
            "max_iter reached after 8 seconds\n",
            "max_iter reached after 8 seconds\n",
            "max_iter reached after 8 seconds\n",
            " 40%|████      | 4/10 [09:48<13:36, 136.01s/trial, best loss: 0.8556998556998557]"
          ]
        },
        {
          "output_type": "stream",
          "name": "stderr",
          "text": [
            "[Parallel(n_jobs=-1)]: Done  20 out of  20 | elapsed:   43.6s finished\n",
            "\n",
            "[Parallel(n_jobs=-1)]: Using backend ThreadingBackend with 4 concurrent workers.\n",
            "\n"
          ]
        },
        {
          "output_type": "stream",
          "name": "stdout",
          "text": [
            "max_iter reached after 8 seconds\n",
            "max_iter reached after 8 seconds\n",
            "max_iter reached after 8 seconds\n",
            "max_iter reached after 8 seconds\n",
            "max_iter reached after 8 seconds\n",
            "max_iter reached after 9 seconds\n",
            "max_iter reached after 9 seconds\n",
            "max_iter reached after 9 seconds\n",
            "max_iter reached after 8 seconds\n",
            "max_iter reached after 8 seconds\n",
            "max_iter reached after 8 seconds\n",
            "max_iter reached after 8 seconds\n",
            "max_iter reached after 8 seconds\n",
            "max_iter reached after 10 seconds\n",
            "max_iter reached after 9 seconds\n",
            "max_iter reached after 10 seconds\n",
            "max_iter reached after 9 seconds\n",
            "max_iter reached after 8 seconds\n",
            "max_iter reached after 9 seconds\n",
            "max_iter reached after 8 seconds\n",
            " 40%|████      | 4/10 [10:32<13:36, 136.01s/trial, best loss: 0.8556998556998557]"
          ]
        },
        {
          "output_type": "stream",
          "name": "stderr",
          "text": [
            "[Parallel(n_jobs=-1)]: Done  20 out of  20 | elapsed:   43.6s finished\n",
            "\n",
            "[Parallel(n_jobs=-1)]: Using backend ThreadingBackend with 4 concurrent workers.\n",
            "\n"
          ]
        },
        {
          "output_type": "stream",
          "name": "stdout",
          "text": [
            "max_iter reached after 9 seconds\n",
            "max_iter reached after 9 seconds\n",
            "max_iter reached after 9 seconds\n",
            "max_iter reached after 9 seconds\n",
            "max_iter reached after 8 seconds\n",
            "max_iter reached after 9 seconds\n",
            "max_iter reached after 9 seconds\n",
            "max_iter reached after 10 seconds\n",
            "max_iter reached after 8 seconds\n",
            "max_iter reached after 8 seconds\n",
            "max_iter reached after 8 seconds\n",
            "max_iter reached after 8 seconds\n",
            "max_iter reached after 10 seconds\n",
            "max_iter reached after 9 seconds\n",
            "max_iter reached after 9 seconds\n",
            "max_iter reached after 9 seconds\n",
            "max_iter reached after 8 seconds\n",
            "max_iter reached after 8 seconds\n",
            "max_iter reached after 8 seconds\n",
            "max_iter reached after 8 seconds\n",
            " 50%|█████     | 5/10 [11:16<11:11, 134.37s/trial, best loss: 0.8556998556998557]"
          ]
        },
        {
          "output_type": "stream",
          "name": "stderr",
          "text": [
            "[Parallel(n_jobs=-1)]: Done  20 out of  20 | elapsed:   43.7s finished\n",
            "\n",
            "[Parallel(n_jobs=-1)]: Using backend ThreadingBackend with 4 concurrent workers.\n",
            "\n"
          ]
        },
        {
          "output_type": "stream",
          "name": "stdout",
          "text": [
            "max_iter reached after 9 seconds\n",
            "max_iter reached after 9 seconds\n",
            "max_iter reached after 9 seconds\n",
            "max_iter reached after 9 seconds\n",
            "max_iter reached after 9 seconds\n",
            "max_iter reached after 9 seconds\n",
            "max_iter reached after 10 seconds\n",
            "max_iter reached after 10 seconds\n",
            "max_iter reached after 8 seconds\n",
            "max_iter reached after 8 seconds\n",
            "max_iter reached after 8 seconds\n",
            "max_iter reached after 8 seconds\n",
            "max_iter reached after 10 seconds\n",
            "max_iter reached after 10 seconds\n",
            "max_iter reached after 9 seconds\n",
            "max_iter reached after 10 seconds\n",
            "max_iter reached after 9 seconds\n",
            "max_iter reached after 9 seconds\n",
            "max_iter reached after 10 seconds\n",
            "max_iter reached after 9 seconds\n",
            " 50%|█████     | 5/10 [12:02<11:11, 134.37s/trial, best loss: 0.8556998556998557]"
          ]
        },
        {
          "output_type": "stream",
          "name": "stderr",
          "text": [
            "[Parallel(n_jobs=-1)]: Done  20 out of  20 | elapsed:   45.4s finished\n",
            "\n",
            "[Parallel(n_jobs=-1)]: Using backend ThreadingBackend with 4 concurrent workers.\n",
            "\n"
          ]
        },
        {
          "output_type": "stream",
          "name": "stdout",
          "text": [
            "max_iter reached after 8 seconds\n",
            "max_iter reached after 8 seconds\n",
            "max_iter reached after 8 seconds\n",
            "max_iter reached after 8 seconds\n",
            "max_iter reached after 9 seconds\n",
            "max_iter reached after 10 seconds\n",
            "max_iter reached after 10 seconds\n",
            "max_iter reached after 10 seconds\n",
            "max_iter reached after 8 seconds\n",
            "max_iter reached after 9 seconds\n",
            "max_iter reached after 9 seconds\n",
            "max_iter reached after 9 seconds\n",
            "max_iter reached after 9 seconds\n",
            "max_iter reached after 9 seconds\n",
            "max_iter reached after 9 seconds\n",
            "max_iter reached after 9 seconds\n",
            "max_iter reached after 9 seconds\n",
            "max_iter reached after 9 seconds\n",
            "max_iter reached after 9 seconds\n",
            "max_iter reached after 9 seconds\n",
            " 50%|█████     | 5/10 [12:47<11:11, 134.37s/trial, best loss: 0.8556998556998557]"
          ]
        },
        {
          "output_type": "stream",
          "name": "stderr",
          "text": [
            "[Parallel(n_jobs=-1)]: Done  20 out of  20 | elapsed:   45.2s finished\n",
            "\n",
            "[Parallel(n_jobs=-1)]: Using backend ThreadingBackend with 4 concurrent workers.\n",
            "\n"
          ]
        },
        {
          "output_type": "stream",
          "name": "stdout",
          "text": [
            "max_iter reached after 8 seconds\n",
            "max_iter reached after 8 seconds\n",
            "max_iter reached after 9 seconds\n",
            "max_iter reached after 9 seconds\n",
            "max_iter reached after 9 seconds\n",
            "max_iter reached after 10 seconds\n",
            "max_iter reached after 9 seconds\n",
            "max_iter reached after 9 seconds\n",
            "max_iter reached after 9 seconds\n",
            "max_iter reached after 8 seconds\n",
            "max_iter reached after 9 seconds\n",
            "max_iter reached after 8 seconds\n",
            "max_iter reached after 9 seconds\n",
            "max_iter reached after 10 seconds\n",
            "max_iter reached after 9 seconds\n",
            "max_iter reached after 9 seconds\n",
            "max_iter reached after 9 seconds\n",
            "max_iter reached after 10 seconds\n",
            "max_iter reached after 9 seconds\n",
            "max_iter reached after 9 seconds\n",
            " 60%|██████    | 6/10 [13:32<09:00, 135.03s/trial, best loss: 0.8556998556998557]"
          ]
        },
        {
          "output_type": "stream",
          "name": "stderr",
          "text": [
            "[Parallel(n_jobs=-1)]: Done  20 out of  20 | elapsed:   45.3s finished\n",
            "\n",
            "[Parallel(n_jobs=-1)]: Using backend LokyBackend with 4 concurrent workers.\n",
            "\n",
            "[Parallel(n_jobs=-1)]: Done  20 out of  20 | elapsed:    6.9s finished\n",
            "\n",
            "[Parallel(n_jobs=-1)]: Using backend LokyBackend with 4 concurrent workers.\n",
            "\n",
            "[Parallel(n_jobs=-1)]: Done  20 out of  20 | elapsed:    6.9s finished\n",
            "\n",
            "[Parallel(n_jobs=-1)]: Using backend LokyBackend with 4 concurrent workers.\n",
            "\n",
            "[Parallel(n_jobs=-1)]: Done  20 out of  20 | elapsed:    6.0s finished\n",
            "\n"
          ]
        },
        {
          "output_type": "stream",
          "name": "stdout",
          "text": [
            "\r 70%|███████   | 7/10 [13:56<04:55, 98.48s/trial, best loss: 0.8556998556998557] "
          ]
        },
        {
          "output_type": "stream",
          "name": "stderr",
          "text": [
            "[Parallel(n_jobs=-1)]: Using backend LokyBackend with 4 concurrent workers.\n",
            "\n",
            "[Parallel(n_jobs=-1)]: Done  20 out of  20 | elapsed:    6.1s finished\n",
            "\n",
            "[Parallel(n_jobs=-1)]: Using backend LokyBackend with 4 concurrent workers.\n",
            "\n",
            "[Parallel(n_jobs=-1)]: Done  20 out of  20 | elapsed:    5.3s finished\n",
            "\n",
            "[Parallel(n_jobs=-1)]: Using backend LokyBackend with 4 concurrent workers.\n",
            "\n",
            "[Parallel(n_jobs=-1)]: Done  20 out of  20 | elapsed:    5.9s finished\n",
            "\n"
          ]
        },
        {
          "output_type": "stream",
          "name": "stdout",
          "text": [
            "\r 80%|████████  | 8/10 [14:16<02:27, 73.72s/trial, best loss: 0.8556998556998557]"
          ]
        },
        {
          "output_type": "stream",
          "name": "stderr",
          "text": [
            "[Parallel(n_jobs=-1)]: Using backend ThreadingBackend with 4 concurrent workers.\n",
            "\n"
          ]
        },
        {
          "output_type": "stream",
          "name": "stdout",
          "text": [
            "max_iter reached after 8 seconds\n",
            "max_iter reached after 8 seconds\n",
            "max_iter reached after 8 seconds\n",
            "max_iter reached after 8 seconds\n",
            "max_iter reached after 9 seconds\n",
            "max_iter reached after 9 seconds\n",
            "max_iter reached after 10 seconds\n",
            "max_iter reached after 10 seconds\n",
            "max_iter reached after 9 seconds\n",
            "max_iter reached after 9 seconds\n",
            "max_iter reached after 8 seconds\n",
            "max_iter reached after 9 seconds\n",
            "max_iter reached after 9 seconds\n",
            "max_iter reached after 9 seconds\n",
            "max_iter reached after 9 seconds\n",
            "max_iter reached after 8 seconds\n",
            "max_iter reached after 10 seconds\n",
            "max_iter reached after 10 seconds\n",
            "max_iter reached after 10 seconds\n",
            "max_iter reached after 8 seconds\n",
            " 80%|████████  | 8/10 [15:02<02:27, 73.72s/trial, best loss: 0.8556998556998557]"
          ]
        },
        {
          "output_type": "stream",
          "name": "stderr",
          "text": [
            "[Parallel(n_jobs=-1)]: Done  20 out of  20 | elapsed:   45.9s finished\n",
            "\n",
            "[Parallel(n_jobs=-1)]: Using backend ThreadingBackend with 4 concurrent workers.\n",
            "\n"
          ]
        },
        {
          "output_type": "stream",
          "name": "stdout",
          "text": [
            "max_iter reached after 8 seconds\n",
            "max_iter reached after 8 seconds\n",
            "max_iter reached after 8 seconds\n",
            "max_iter reached after 8 seconds\n",
            "max_iter reached after 9 seconds\n",
            "max_iter reached after 9 seconds\n",
            "max_iter reached after 9 seconds\n",
            "max_iter reached after 10 seconds\n",
            "max_iter reached after 9 seconds\n",
            "max_iter reached after 9 seconds\n",
            "max_iter reached after 9 seconds\n",
            "max_iter reached after 9 seconds\n",
            "max_iter reached after 9 seconds\n",
            "max_iter reached after 9 seconds\n",
            "max_iter reached after 9 seconds\n",
            "max_iter reached after 9 seconds\n",
            "max_iter reached after 9 seconds\n",
            "max_iter reached after 10 seconds\n",
            "max_iter reached after 10 seconds\n",
            "max_iter reached after 9 seconds\n",
            " 80%|████████  | 8/10 [15:48<02:27, 73.72s/trial, best loss: 0.8556998556998557]"
          ]
        },
        {
          "output_type": "stream",
          "name": "stderr",
          "text": [
            "[Parallel(n_jobs=-1)]: Done  20 out of  20 | elapsed:   45.6s finished\n",
            "\n",
            "[Parallel(n_jobs=-1)]: Using backend ThreadingBackend with 4 concurrent workers.\n",
            "\n"
          ]
        },
        {
          "output_type": "stream",
          "name": "stdout",
          "text": [
            "max_iter reached after 9 seconds\n",
            "max_iter reached after 9 seconds\n",
            "max_iter reached after 9 seconds\n",
            "max_iter reached after 9 seconds\n",
            "max_iter reached after 9 seconds\n",
            "max_iter reached after 9 seconds\n",
            "max_iter reached after 9 seconds\n",
            "max_iter reached after 9 seconds\n",
            "max_iter reached after 8 seconds\n",
            "max_iter reached after 9 seconds\n",
            "max_iter reached after 9 seconds\n",
            "max_iter reached after 9 seconds\n",
            "max_iter reached after 9 seconds\n",
            "max_iter reached after 9 seconds\n",
            "max_iter reached after 10 seconds\n",
            "max_iter reached after 9 seconds\n",
            "max_iter reached after 9 seconds\n",
            "max_iter reached after 9 seconds\n",
            "max_iter reached after 9 seconds\n",
            "max_iter reached after 10 seconds\n",
            " 90%|█████████ | 9/10 [16:34<01:33, 93.65s/trial, best loss: 0.8556998556998557]"
          ]
        },
        {
          "output_type": "stream",
          "name": "stderr",
          "text": [
            "[Parallel(n_jobs=-1)]: Done  20 out of  20 | elapsed:   45.6s finished\n",
            "\n",
            "[Parallel(n_jobs=-1)]: Using backend LokyBackend with 4 concurrent workers.\n",
            "\n",
            "[Parallel(n_jobs=-1)]: Done  20 out of  20 | elapsed:    5.3s finished\n",
            "\n",
            "[Parallel(n_jobs=-1)]: Using backend LokyBackend with 4 concurrent workers.\n",
            "\n",
            "[Parallel(n_jobs=-1)]: Done  20 out of  20 | elapsed:    6.2s finished\n",
            "\n",
            "[Parallel(n_jobs=-1)]: Using backend LokyBackend with 4 concurrent workers.\n",
            "\n",
            "[Parallel(n_jobs=-1)]: Done  20 out of  20 | elapsed:    5.5s finished\n",
            "\n"
          ]
        },
        {
          "output_type": "stream",
          "name": "stdout",
          "text": [
            "100%|██████████| 10/10 [16:54<00:00, 101.46s/trial, best loss: 0.8556998556998557]\n",
            "Best: {'C': 0.6366212882206533, 'solver': 2}\n"
          ]
        }
      ]
    },
    {
      "cell_type": "code",
      "source": [
        "train_hue2, train_hue2_y = shuffle(train_hue.iloc[:,0:-1], train_hue['label'], random_state=RANDOM_SEED)\n",
        "test_hue2, test_hue2_y = shuffle(test_hue.iloc[:,0:-1], test_hue['label'], random_state=RANDOM_SEED)"
      ],
      "metadata": {
        "id": "QNAd6-Vor6KI"
      },
      "execution_count": 35,
      "outputs": []
    },
    {
      "cell_type": "code",
      "source": [
        "params = {'C': 0.6366212882206533,\n",
        "          'fit_intercept': True,\n",
        "          'max_iter': 100,\n",
        "          'solver': 'saga',\n",
        "          'tol': 0.0001,\n",
        "          'warm_start': True,\n",
        "          'multi_class':'ovr',\n",
        "          'class_weight':'balanced'\n",
        "          }\n",
        "\n",
        "hue_model = LogisticRegression(**params, n_jobs=-1)\n",
        "hue_model.fit(train_hue2, train_hue2_y)\n",
        "\n",
        "y_pred = hue_model.predict(test_hue2)\n"
      ],
      "metadata": {
        "id": "7qmI7bmSuT89"
      },
      "execution_count": 39,
      "outputs": []
    },
    {
      "cell_type": "code",
      "source": [
        "accuracy_score(test_hue2_y, y_pred)"
      ],
      "metadata": {
        "colab": {
          "base_uri": "https://localhost:8080/"
        },
        "id": "jzabjApQ2wzH",
        "outputId": "7e104046-7d5b-4780-d4e2-152f44bfd987"
      },
      "execution_count": 40,
      "outputs": [
        {
          "output_type": "execute_result",
          "data": {
            "text/plain": [
              "0.93048128342246"
            ]
          },
          "metadata": {},
          "execution_count": 40
        }
      ]
    },
    {
      "cell_type": "code",
      "source": [
        "print(classification_report(test_hue2_y, y_pred))"
      ],
      "metadata": {
        "colab": {
          "base_uri": "https://localhost:8080/"
        },
        "id": "2mQoIdfI3jeb",
        "outputId": "a957104d-07f3-4dcd-c50d-930105636e59"
      },
      "execution_count": 41,
      "outputs": [
        {
          "output_type": "stream",
          "name": "stdout",
          "text": [
            "               precision    recall  f1-score   support\n",
            "\n",
            "        apple       1.00      0.56      0.71         9\n",
            "       banana       0.88      0.78      0.82         9\n",
            "  bell pepper       1.00      1.00      1.00         9\n",
            "      cabbage       1.00      1.00      1.00        10\n",
            "  cauliflower       1.00      0.89      0.94         9\n",
            "chilli pepper       0.88      1.00      0.93         7\n",
            "         corn       1.00      0.90      0.95        10\n",
            "       garlic       1.00      1.00      1.00        10\n",
            "       ginger       1.00      0.90      0.95        10\n",
            "       grapes       0.80      1.00      0.89         8\n",
            "         kiwi       0.91      1.00      0.95        10\n",
            "        mango       0.90      0.90      0.90        10\n",
            "       orange       0.83      0.71      0.77         7\n",
            "         pear       0.83      1.00      0.91        10\n",
            "         peas       0.90      1.00      0.95         9\n",
            "    pineapple       1.00      1.00      1.00        10\n",
            "  pomegranate       0.90      0.90      0.90        10\n",
            "      spinach       0.91      1.00      0.95        10\n",
            "       turnip       1.00      1.00      1.00        10\n",
            "   watermelon       0.91      1.00      0.95        10\n",
            "\n",
            "     accuracy                           0.93       187\n",
            "    macro avg       0.93      0.93      0.92       187\n",
            " weighted avg       0.94      0.93      0.93       187\n",
            "\n"
          ]
        }
      ]
    },
    {
      "cell_type": "code",
      "source": [
        "fig, ax = plt.subplots(figsize=(15,10))\n",
        "ConfusionMatrixDisplay.from_predictions(test_hue2_y, y_pred, xticks_rotation=60, ax=ax)"
      ],
      "metadata": {
        "colab": {
          "base_uri": "https://localhost:8080/",
          "height": 948
        },
        "id": "--yO-S63G3v9",
        "outputId": "845b5aec-49ea-436b-e627-8a65a25ce589"
      },
      "execution_count": 42,
      "outputs": [
        {
          "output_type": "execute_result",
          "data": {
            "text/plain": [
              "<sklearn.metrics._plot.confusion_matrix.ConfusionMatrixDisplay at 0x7c1d110e6c20>"
            ]
          },
          "metadata": {},
          "execution_count": 42
        },
        {
          "output_type": "display_data",
          "data": {
            "text/plain": [
              "<Figure size 1500x1000 with 2 Axes>"
            ],
            "image/png": "[encoded data removed]"
          },
          "metadata": {}
        }
      ]
    },
    {
      "cell_type": "markdown",
      "source": [
        "#### Learning Curve"
      ],
      "metadata": {
        "id": "RMHMEGMdLSIE"
      }
    },
    {
      "cell_type": "code",
      "source": [],
      "metadata": {
        "id": "Q9hdvovkDBdz"
      },
      "execution_count": null,
      "outputs": []
    },
    {
      "cell_type": "code",
      "source": [],
      "metadata": {
        "id": "x1NRK-yKM2QT"
      },
      "execution_count": null,
      "outputs": []
    }
  ],
  "metadata": {
    "colab": {
      "provenance": [],
      "machine_shape": "hm",
      "include_colab_link": true
    },
    "kernelspec": {
      "display_name": "dl",
      "language": "python",
      "name": "dl"
    },
    "language_info": {
      "codemirror_mode": {
        "name": "ipython",
        "version": 3
      },
      "file_extension": ".py",
      "mimetype": "text/x-python",
      "name": "python",
      "nbconvert_exporter": "python",
      "pygments_lexer": "ipython3",
      "version": "3.8.16"
    }
  },
  "nbformat": 4,
  "nbformat_minor": 0
}