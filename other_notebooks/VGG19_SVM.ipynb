{
  "nbformat": 4,
  "nbformat_minor": 0,
  "metadata": {
    "colab": {
      "provenance": [],
      "machine_shape": "hm",
      "authorship_tag": "ABX9TyMICiRVecnUev7TR96RbF8H",
      "include_colab_link": true
    },
    "kernelspec": {
      "name": "python3",
      "display_name": "Python 3"
    },
    "language_info": {
      "name": "python"
    }
  },
  "cells": [
    {
      "cell_type": "markdown",
      "metadata": {
        "id": "view-in-github",
        "colab_type": "text"
      },
      "source": [
        "<a href=\"https://colab.research.google.com/github/MichaelTay/w281-summer-2023-project/blob/main/VGG19_SVM.ipynb\" target=\"_parent\"><img src=\"https://colab.research.google.com/assets/colab-badge.svg\" alt=\"Open In Colab\"/></a>"
      ]
    },
    {
      "cell_type": "code",
      "execution_count": 1,
      "metadata": {
        "colab": {
          "base_uri": "https://localhost:8080/"
        },
        "id": "ixY9LOlW6d-X",
        "outputId": "ac136444-085c-4c28-98ec-d667fa0fd7c5"
      },
      "outputs": [
        {
          "output_type": "stream",
          "name": "stdout",
          "text": [
            "Mounted at /content/drive/\n"
          ]
        }
      ],
      "source": [
        "\n",
        "from google.colab import drive\n",
        "\n",
        "mountdir = '/content/drive/'\n",
        "drive.mount(mountdir, force_remount=True)\n",
        "\n",
        "localdir = mountdir + 'MyDrive'\n",
        "w281_dir = '/Berkeley/w281/Fruit-and-Vegetable-Classification/'\n",
        "inputdir = localdir + w281_dir\n",
        "vggdir = inputdir + 'modeling/vgg_data/'"
      ]
    },
    {
      "cell_type": "code",
      "source": [
        "import numpy as np\n",
        "import pandas as pd\n",
        "import matplotlib.pyplot as plt\n",
        "import os\n",
        "import os.path\n",
        "from pathlib import Path\n",
        "\n",
        "from sklearn.linear_model import LogisticRegression\n",
        "from sklearn.model_selection import train_test_split\n",
        "from sklearn.metrics import (confusion_matrix,\n",
        "                             classification_report, auc, roc_curve,\n",
        "                             RocCurveDisplay, accuracy_score)\n",
        "from sklearn.model_selection import StratifiedKFold\n",
        "\n",
        "from hyperopt import tpe, atpe, rand, hp, fmin, STATUS_OK, Trials\n",
        "from hyperopt.pyll.base import scope\n",
        "from hyperopt.early_stop import no_progress_loss\n",
        "\n",
        "def warn(*args, **kwargs):\n",
        "    pass\n",
        "import warnings\n",
        "warnings.warn = warn\n"
      ],
      "metadata": {
        "id": "b3d4izzP7DVF"
      },
      "execution_count": 2,
      "outputs": []
    },
    {
      "cell_type": "code",
      "source": [
        "import os\n",
        "import cv2\n",
        "\n",
        "# Create a list with the filepaths for training and testing\n",
        "train_dir = Path(inputdir, './input/train')\n",
        "train_filepaths = list(train_dir.glob(r'**/*.jpg'))\n",
        "\n",
        "test_dir = Path(inputdir, './input/test')\n",
        "test_filepaths = list(test_dir.glob(r'**/*.jpg'))\n",
        "\n",
        "val_dir = Path(inputdir, './input/validation')\n",
        "val_filepaths = list(test_dir.glob(r'**/*.jpg'))\n",
        "\n",
        "def proc_img(filepath):\n",
        "    \"\"\" Create a DataFrame with the filepath and the labels of the pictures\n",
        "    \"\"\"\n",
        "\n",
        "    labels = [str(filepath[i]).split(\"/\")[-2] \\\n",
        "              for i in range(len(filepath))]\n",
        "\n",
        "    filepath = pd.Series(filepath, name='Filepath').astype(str)\n",
        "    labels = pd.Series(labels, name='Label')\n",
        "\n",
        "    # Concatenate filepaths and labels\n",
        "    df = pd.concat([filepath, labels], axis=1)\n",
        "\n",
        "    # Shuffle the DataFrame and reset index\n",
        "    df = df.sample(frac=1).reset_index(drop = True)\n",
        "\n",
        "    return df\n",
        "\n",
        "train_df = proc_img(train_filepaths)\n",
        "test_df = proc_img(test_filepaths)\n",
        "val_df = proc_img(val_filepaths)"
      ],
      "metadata": {
        "id": "luxO8G5Q9mGN"
      },
      "execution_count": 3,
      "outputs": []
    },
    {
      "cell_type": "code",
      "source": [
        "# Fruits - banana, apple, pear, grapes, orange, kiwi, watermelon, pomegranate, pineapple, mango.\n",
        "# Vegetables - Bell Pepper, Cauliflower, Chilli Pepper, Peas, Corn, Spinach, Turnip, Garlic, Ginger, Cabbage\n",
        "Fruits = ['banana', 'apple', 'pear', 'grapes', 'orange', 'kiwi', 'watermelon', 'pomegranate', 'pineapple', 'mango']\n",
        "Vegetables = ['bell pepper', 'cauliflower', 'chilli pepper', 'peas', 'corn', 'spinach', 'turnip', 'garlic', 'ginger', 'cabbage']\n",
        "\n",
        "train_df = train_df[train_df['Label'].isin(Fruits + Vegetables)]\n",
        "test_df = test_df[test_df['Label'].isin(Fruits + Vegetables)]\n",
        "val_df = val_df[val_df['Label'].isin(Fruits + Vegetables)]\n",
        "\n",
        "train_df = train_df.reset_index(drop=True)\n",
        "test_df = test_df.reset_index(drop=True)\n",
        "val_df = val_df.reset_index(drop=True)\n",
        "\n",
        "print('-- Training set --\\n')\n",
        "print(f'Number of pictures: {train_df.shape[0]}\\n')\n",
        "print(f'Number of different labels: {len(train_df.Label.unique())}\\n')\n",
        "print(f'Labels: {train_df.Label.unique()}')"
      ],
      "metadata": {
        "colab": {
          "base_uri": "https://localhost:8080/"
        },
        "id": "D-wXHcfX-h3c",
        "outputId": "949dd288-c393-4576-bbc7-f10f933280b4"
      },
      "execution_count": 4,
      "outputs": [
        {
          "output_type": "stream",
          "name": "stdout",
          "text": [
            "-- Training set --\n",
            "\n",
            "Number of pictures: 1540\n",
            "\n",
            "Number of different labels: 20\n",
            "\n",
            "Labels: ['cabbage' 'grapes' 'mango' 'bell pepper' 'chilli pepper' 'orange'\n",
            " 'cauliflower' 'apple' 'watermelon' 'banana' 'pineapple' 'kiwi' 'ginger'\n",
            " 'turnip' 'peas' 'pomegranate' 'spinach' 'corn' 'garlic' 'pear']\n"
          ]
        }
      ]
    },
    {
      "cell_type": "code",
      "source": [
        "train = pd.read_csv(vggdir + 'vgg_train.csv').drop('Unnamed: 0', axis=1)\n",
        "test = pd.read_csv(vggdir + 'vgg_test.csv').drop('Unnamed: 0', axis=1)\n",
        "validation = pd.read_csv(vggdir + 'vgg_validation.csv').drop('Unnamed: 0', axis=1)\n",
        "\n",
        "train['label'] = train_df['Label']\n",
        "train = train.drop('0.1', axis=1)\n",
        "validation['label'] = val_df['Label']\n",
        "validation = validation.drop('0.1', axis=1)\n",
        "test['label'] = test_df['Label']\n",
        "test = test.drop('0.1', axis=1)"
      ],
      "metadata": {
        "id": "zYf58u5K8J8d"
      },
      "execution_count": 5,
      "outputs": []
    },
    {
      "cell_type": "code",
      "source": [
        "X_train, y_train = train.iloc[:, 0:-1], train.iloc[:, -1]\n",
        "X_val, y_val = validation.iloc[:, 0:-1], validation.iloc[:, -1]\n",
        "X_test, y_test = test.iloc[:, 0:-1], test.iloc[:, -1]\n"
      ],
      "metadata": {
        "id": "DeLaHSHwcO0F"
      },
      "execution_count": 9,
      "outputs": []
    },
    {
      "cell_type": "markdown",
      "source": [
        "## Modeling"
      ],
      "metadata": {
        "id": "2nY1HodCbtrv"
      }
    },
    {
      "cell_type": "code",
      "source": [
        "from sklearn import svm\n",
        "from sklearn.model_selection import train_test_split, cross_val_score\n",
        "from sklearn.metrics import (roc_curve,\n",
        "                             auc, RocCurveDisplay,\n",
        "                             classification_report,\n",
        "                             confusion_matrix,accuracy_score)\n",
        "from sklearn.model_selection import StratifiedKFold\n",
        "\n",
        "from sklearn.metrics import accuracy_score, f1_score, make_scorer, ConfusionMatrixDisplay\n",
        "from hyperopt import tpe, hp, fmin, STATUS_OK,Trials\n",
        "\n",
        "\n",
        "def warn(*args, **kwargs):\n",
        "    pass\n",
        "import warnings\n",
        "warnings.warn = warn"
      ],
      "metadata": {
        "id": "vbIz5oZx86KA"
      },
      "execution_count": 6,
      "outputs": []
    },
    {
      "cell_type": "markdown",
      "source": [
        "#### Bayesian Parameter Search"
      ],
      "metadata": {
        "id": "LSLnWSSycBxT"
      }
    },
    {
      "cell_type": "code",
      "source": [
        "space = {   'tol' : hp.uniform('tol', 0.00001, 0.0001),\n",
        "            # 'kernel' : hp.choice('kernel', ['poly', 'rbf', 'sigmoid']),\n",
        "            'C' : hp.uniform('C', 0.00001, 1000),\n",
        "            'max_iter' : hp.choice('max_iter', range(100,1000))\n",
        "                }"
      ],
      "metadata": {
        "id": "ataUp3GOb709"
      },
      "execution_count": 35,
      "outputs": []
    },
    {
      "cell_type": "code",
      "source": [
        "def optimize_lr(params):\n",
        "\n",
        "    skf = StratifiedKFold(n_splits=10)\n",
        "    clf = svm.SVC(**params,kernel='poly', degree=3)\n",
        "\n",
        "    f1_weighted = cross_val_score(clf, X_train, y_train,\n",
        "                         scoring=make_scorer(accuracy_score),\n",
        "                        cv=skf).mean()\n",
        "    best_score = np.mean(f1_weighted)\n",
        "    loss = 1 - best_score\n",
        "    return {\"loss\":loss, \"status\":STATUS_OK}"
      ],
      "metadata": {
        "id": "aLbbE8MrcI0N"
      },
      "execution_count": 38,
      "outputs": []
    },
    {
      "cell_type": "code",
      "source": [
        "RANDOM_SEED = 1234\n",
        "trials = Trials()\n",
        "\n",
        "best = fmin(\n",
        "    fn=optimize_lr,\n",
        "    space=space,\n",
        "    algo=tpe.suggest,\n",
        "    max_evals=100,\n",
        "    trials=trials,\n",
        "    rstate=np.random.default_rng(RANDOM_SEED)\n",
        ")\n",
        "\n",
        "print(\"Best: {}\".format(best))"
      ],
      "metadata": {
        "id": "Up3-k-zGcsjl",
        "outputId": "d2e2fe16-cd3c-4946-86a9-d5fbbb7ecff2",
        "colab": {
          "base_uri": "https://localhost:8080/"
        }
      },
      "execution_count": 39,
      "outputs": [
        {
          "output_type": "stream",
          "name": "stdout",
          "text": [
            "100%|██████████| 100/100 [28:12<00:00, 16.93s/trial, best loss: 0.9448051948051948]\n",
            "Best: {'C': 13.669577387382544, 'max_iter': 461, 'tol': 3.673213165801924e-05}\n"
          ]
        }
      ]
    },
    {
      "cell_type": "markdown",
      "source": [
        "#### Validation set inference"
      ],
      "metadata": {
        "id": "cvt1WbOceivW"
      }
    },
    {
      "cell_type": "code",
      "source": [
        "params = {\n",
        "    'C' : 13.669577387382544,\n",
        "    'kernel' : 'poly',\n",
        "    'max_iter' : 461,\n",
        "    'tol' : 3.673213165801924e-05,\n",
        "    'class_weight' : 'balanced',\n",
        "    'probability' : True\n",
        "}"
      ],
      "metadata": {
        "id": "yUubuhfKdCoD"
      },
      "execution_count": 41,
      "outputs": []
    },
    {
      "cell_type": "code",
      "source": [
        "sv_clf0 = svm.SVC(**params)\n",
        "sv_clf0.fit(X_train, y_train)\n",
        "\n",
        "y_pred = sv_clf0.predict(X_val)\n",
        "y_proba = sv_clf0.predict_proba(X_val)\n",
        "\n",
        "print(classification_report(y_val, y_pred))\n",
        "print(accuracy_score(y_val, y_pred))\n"
      ],
      "metadata": {
        "id": "gBdTlEVhfCXg",
        "outputId": "f5c0fd67-f9c1-4aec-87c6-a14da7a50aca",
        "colab": {
          "base_uri": "https://localhost:8080/"
        }
      },
      "execution_count": 42,
      "outputs": [
        {
          "output_type": "stream",
          "name": "stdout",
          "text": [
            "               precision    recall  f1-score   support\n",
            "\n",
            "        apple       0.00      0.00      0.00         9\n",
            "       banana       0.00      0.00      0.00         9\n",
            "  bell pepper       0.00      0.00      0.00         9\n",
            "      cabbage       0.00      0.00      0.00        10\n",
            "  cauliflower       0.10      0.11      0.11         9\n",
            "chilli pepper       0.00      0.00      0.00         7\n",
            "         corn       0.00      0.00      0.00        10\n",
            "       garlic       0.12      0.20      0.15        10\n",
            "       ginger       0.00      0.00      0.00        10\n",
            "       grapes       0.10      0.12      0.11         8\n",
            "         kiwi       0.10      0.10      0.10        10\n",
            "        mango       0.00      0.00      0.00        10\n",
            "       orange       0.00      0.00      0.00         7\n",
            "         pear       0.00      0.00      0.00        10\n",
            "         peas       0.00      0.00      0.00         9\n",
            "    pineapple       0.00      0.00      0.00        10\n",
            "  pomegranate       0.00      0.00      0.00        10\n",
            "      spinach       0.00      0.00      0.00        10\n",
            "       turnip       0.00      0.00      0.00        10\n",
            "   watermelon       0.15      0.20      0.17        10\n",
            "\n",
            "     accuracy                           0.04       187\n",
            "    macro avg       0.03      0.04      0.03       187\n",
            " weighted avg       0.03      0.04      0.03       187\n",
            "\n",
            "0.0374331550802139\n"
          ]
        }
      ]
    },
    {
      "cell_type": "markdown",
      "source": [
        "#### Test set inference"
      ],
      "metadata": {
        "id": "38LzyKGScU2j"
      }
    },
    {
      "cell_type": "code",
      "source": [
        "\n",
        "y_pred_test = sv_clf0.predict(X_test)\n",
        "y_proba = sv_clf0.predict_proba(X_test)\n",
        "\n",
        "print(classification_report(y_test, y_pred_test))\n",
        "print(accuracy_score(y_test, y_pred_test))\n"
      ],
      "metadata": {
        "id": "LtYKs38cfXs7",
        "outputId": "da379781-8827-40f5-a762-f37e15acf7ce",
        "colab": {
          "base_uri": "https://localhost:8080/"
        }
      },
      "execution_count": 43,
      "outputs": [
        {
          "output_type": "stream",
          "name": "stdout",
          "text": [
            "               precision    recall  f1-score   support\n",
            "\n",
            "        apple       0.00      0.00      0.00         9\n",
            "       banana       0.00      0.00      0.00         9\n",
            "  bell pepper       0.00      0.00      0.00         9\n",
            "      cabbage       0.00      0.00      0.00        10\n",
            "  cauliflower       0.00      0.00      0.00         9\n",
            "chilli pepper       0.18      0.29      0.22         7\n",
            "         corn       0.00      0.00      0.00        10\n",
            "       garlic       0.06      0.10      0.07        10\n",
            "       ginger       0.00      0.00      0.00        10\n",
            "       grapes       0.00      0.00      0.00         8\n",
            "         kiwi       0.20      0.20      0.20        10\n",
            "        mango       0.29      0.20      0.24        10\n",
            "       orange       0.09      0.14      0.11         7\n",
            "         pear       0.00      0.00      0.00        10\n",
            "         peas       0.50      0.11      0.18         9\n",
            "    pineapple       0.00      0.00      0.00        10\n",
            "  pomegranate       0.00      0.00      0.00        10\n",
            "      spinach       0.20      0.10      0.13        10\n",
            "       turnip       0.00      0.00      0.00        10\n",
            "   watermelon       0.00      0.00      0.00        10\n",
            "\n",
            "     accuracy                           0.05       187\n",
            "    macro avg       0.08      0.06      0.06       187\n",
            " weighted avg       0.07      0.05      0.06       187\n",
            "\n",
            "0.053475935828877004\n"
          ]
        }
      ]
    }
  ]
}